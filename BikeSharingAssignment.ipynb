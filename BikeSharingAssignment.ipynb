{
 "cells": [
  {
   "cell_type": "markdown",
   "id": "80a38898-581b-4da1-9a5e-e2e4355fc8d9",
   "metadata": {},
   "source": [
    "# Bike Sharing Assignment #"
   ]
  },
  {
   "cell_type": "markdown",
   "id": "62f7ee59-b121-47ee-9aa4-e8bd04083bfa",
   "metadata": {},
   "source": [
    "### Description of Data ###"
   ]
  },
  {
   "cell_type": "markdown",
   "id": "96070e6f-bbd4-417f-96e3-45f50eb71b23",
   "metadata": {},
   "source": [
    "day.csv have the following fields:\r\n",
    "\t\r\n",
    "\t- instant: record index\r\n",
    "\t- dteday : date\r\n",
    "\t- season : season (1:spring, 2:summer, 3:fall, 4:winter)\r\n",
    "\t- yr : year (0: 2018, 1:2019)\r\n",
    "\t- mnth : month ( 1 to 12)\r\n",
    "\t- holiday : weather day is a holiday or not (extracted from http://dchr.dc.gov/page/holiday-schedule)\r\n",
    "\t- weekday : day of the week\r\n",
    "\t- workingday : if day is neither weekend nor holiday is 1, otherwise is 0.\r\n",
    "\t+ weathersit : \r\n",
    "\t\t- 1: Clear, Few clouds, Partly cloudy, Partly cloudy\r\n",
    "\t\t- 2: Mist + Cloudy, Mist + Broken clouds, Mist + Few clouds, Light Mist, : Light Snow, Light Rain + Thunderstorm + Scattered clouds, Light Rain + Scattered clouds\r\n",
    "\t\t- 4: Heavy Rain + Ice Pallets + Thunderstorm + Mist, Snow + Fog\r\n",
    "\t- temp : temperature in Celsius\r\n",
    "\t- atemp: feeling temperature in Celsius\r\n",
    "\t- hum: humidity\r\n",
    "\t- windspeed: wind speed\r\n",
    "\t- casual: count of casual users\r\n",
    "\t- registered: count of registered users\r\n",
    "\t- cnt: count of total rental bikes including both casual and registered"
   ]
  },
  {
   "cell_type": "markdown",
   "id": "5757e729-902d-4315-b465-13c8aedf7eef",
   "metadata": {},
   "source": [
    "### Import Necessary Libraries ###"
   ]
  },
  {
   "cell_type": "code",
   "execution_count": 1,
   "id": "98f96ce3-3d46-4331-9d60-a9fa208ec08f",
   "metadata": {},
   "outputs": [],
   "source": [
    "## Import Libraries for EDA\n",
    "import pandas as pd\n",
    "import numpy as np\n",
    "import matplotlib.pyplot as plt\n",
    "import seaborn as sns\n",
    "\n",
    "## Ignore warnings\n",
    "import warnings\n",
    "warnings.filterwarnings('ignore')\n",
    "\n",
    "## Import Scikit learn \n",
    "from sklearn.model_selection import train_test_split\n",
    "from sklearn.preprocessing import MinMaxScaler\n",
    "from sklearn.feature_selection import RFE\n",
    "from sklearn.linear_model import LinearRegression\n",
    "from sklearn.metrics import r2_score\n",
    "\n",
    "## Import Statsmodel \n",
    "import statsmodels.api as sm\n",
    "from statsmodels.stats.outliers_influence import variance_inflation_factor\n"
   ]
  },
  {
   "cell_type": "markdown",
   "id": "016449b6-8e51-4e00-adc6-719af96667b9",
   "metadata": {},
   "source": [
    "### Data Preparation and Analysis ###"
   ]
  },
  {
   "cell_type": "markdown",
   "id": "752c5842-b466-499c-811d-b3d54a78699b",
   "metadata": {},
   "source": [
    "#### Reading Data from csv ####"
   ]
  },
  {
   "cell_type": "code",
   "execution_count": 2,
   "id": "2420aabe-7923-4aa8-85c1-859e85bb12d4",
   "metadata": {},
   "outputs": [
    {
     "data": {
      "text/html": [
       "<div>\n",
       "<style scoped>\n",
       "    .dataframe tbody tr th:only-of-type {\n",
       "        vertical-align: middle;\n",
       "    }\n",
       "\n",
       "    .dataframe tbody tr th {\n",
       "        vertical-align: top;\n",
       "    }\n",
       "\n",
       "    .dataframe thead th {\n",
       "        text-align: right;\n",
       "    }\n",
       "</style>\n",
       "<table border=\"1\" class=\"dataframe\">\n",
       "  <thead>\n",
       "    <tr style=\"text-align: right;\">\n",
       "      <th></th>\n",
       "      <th>instant</th>\n",
       "      <th>dteday</th>\n",
       "      <th>season</th>\n",
       "      <th>yr</th>\n",
       "      <th>mnth</th>\n",
       "      <th>holiday</th>\n",
       "      <th>weekday</th>\n",
       "      <th>workingday</th>\n",
       "      <th>weathersit</th>\n",
       "      <th>temp</th>\n",
       "      <th>atemp</th>\n",
       "      <th>hum</th>\n",
       "      <th>windspeed</th>\n",
       "      <th>casual</th>\n",
       "      <th>registered</th>\n",
       "      <th>cnt</th>\n",
       "    </tr>\n",
       "  </thead>\n",
       "  <tbody>\n",
       "    <tr>\n",
       "      <th>0</th>\n",
       "      <td>1</td>\n",
       "      <td>01-01-2018</td>\n",
       "      <td>1</td>\n",
       "      <td>0</td>\n",
       "      <td>1</td>\n",
       "      <td>0</td>\n",
       "      <td>6</td>\n",
       "      <td>0</td>\n",
       "      <td>2</td>\n",
       "      <td>14.110847</td>\n",
       "      <td>18.18125</td>\n",
       "      <td>80.5833</td>\n",
       "      <td>10.749882</td>\n",
       "      <td>331</td>\n",
       "      <td>654</td>\n",
       "      <td>985</td>\n",
       "    </tr>\n",
       "    <tr>\n",
       "      <th>1</th>\n",
       "      <td>2</td>\n",
       "      <td>02-01-2018</td>\n",
       "      <td>1</td>\n",
       "      <td>0</td>\n",
       "      <td>1</td>\n",
       "      <td>0</td>\n",
       "      <td>0</td>\n",
       "      <td>0</td>\n",
       "      <td>2</td>\n",
       "      <td>14.902598</td>\n",
       "      <td>17.68695</td>\n",
       "      <td>69.6087</td>\n",
       "      <td>16.652113</td>\n",
       "      <td>131</td>\n",
       "      <td>670</td>\n",
       "      <td>801</td>\n",
       "    </tr>\n",
       "    <tr>\n",
       "      <th>2</th>\n",
       "      <td>3</td>\n",
       "      <td>03-01-2018</td>\n",
       "      <td>1</td>\n",
       "      <td>0</td>\n",
       "      <td>1</td>\n",
       "      <td>0</td>\n",
       "      <td>1</td>\n",
       "      <td>1</td>\n",
       "      <td>1</td>\n",
       "      <td>8.050924</td>\n",
       "      <td>9.47025</td>\n",
       "      <td>43.7273</td>\n",
       "      <td>16.636703</td>\n",
       "      <td>120</td>\n",
       "      <td>1229</td>\n",
       "      <td>1349</td>\n",
       "    </tr>\n",
       "    <tr>\n",
       "      <th>3</th>\n",
       "      <td>4</td>\n",
       "      <td>04-01-2018</td>\n",
       "      <td>1</td>\n",
       "      <td>0</td>\n",
       "      <td>1</td>\n",
       "      <td>0</td>\n",
       "      <td>2</td>\n",
       "      <td>1</td>\n",
       "      <td>1</td>\n",
       "      <td>8.200000</td>\n",
       "      <td>10.60610</td>\n",
       "      <td>59.0435</td>\n",
       "      <td>10.739832</td>\n",
       "      <td>108</td>\n",
       "      <td>1454</td>\n",
       "      <td>1562</td>\n",
       "    </tr>\n",
       "    <tr>\n",
       "      <th>4</th>\n",
       "      <td>5</td>\n",
       "      <td>05-01-2018</td>\n",
       "      <td>1</td>\n",
       "      <td>0</td>\n",
       "      <td>1</td>\n",
       "      <td>0</td>\n",
       "      <td>3</td>\n",
       "      <td>1</td>\n",
       "      <td>1</td>\n",
       "      <td>9.305237</td>\n",
       "      <td>11.46350</td>\n",
       "      <td>43.6957</td>\n",
       "      <td>12.522300</td>\n",
       "      <td>82</td>\n",
       "      <td>1518</td>\n",
       "      <td>1600</td>\n",
       "    </tr>\n",
       "  </tbody>\n",
       "</table>\n",
       "</div>"
      ],
      "text/plain": [
       "   instant      dteday  season  yr  mnth  holiday  weekday  workingday  \\\n",
       "0        1  01-01-2018       1   0     1        0        6           0   \n",
       "1        2  02-01-2018       1   0     1        0        0           0   \n",
       "2        3  03-01-2018       1   0     1        0        1           1   \n",
       "3        4  04-01-2018       1   0     1        0        2           1   \n",
       "4        5  05-01-2018       1   0     1        0        3           1   \n",
       "\n",
       "   weathersit       temp     atemp      hum  windspeed  casual  registered  \\\n",
       "0           2  14.110847  18.18125  80.5833  10.749882     331         654   \n",
       "1           2  14.902598  17.68695  69.6087  16.652113     131         670   \n",
       "2           1   8.050924   9.47025  43.7273  16.636703     120        1229   \n",
       "3           1   8.200000  10.60610  59.0435  10.739832     108        1454   \n",
       "4           1   9.305237  11.46350  43.6957  12.522300      82        1518   \n",
       "\n",
       "    cnt  \n",
       "0   985  \n",
       "1   801  \n",
       "2  1349  \n",
       "3  1562  \n",
       "4  1600  "
      ]
     },
     "execution_count": 2,
     "metadata": {},
     "output_type": "execute_result"
    }
   ],
   "source": [
    "## Read csv using pandas read_csv and convert into dataframe\n",
    "bike_sharing_df = pd.read_csv(\"day.csv\")\n",
    "### First 5 records to understand the data\n",
    "bike_sharing_df.head()"
   ]
  },
  {
   "cell_type": "markdown",
   "id": "6d876988-afaf-44f9-a9b5-6d739c1fa4c5",
   "metadata": {},
   "source": [
    "#### Check the shape of data ####"
   ]
  },
  {
   "cell_type": "code",
   "execution_count": 3,
   "id": "537f942c-6c69-4df0-aed4-d8ef20160c18",
   "metadata": {},
   "outputs": [
    {
     "data": {
      "text/plain": [
       "(730, 16)"
      ]
     },
     "execution_count": 3,
     "metadata": {},
     "output_type": "execute_result"
    }
   ],
   "source": [
    "bike_sharing_df.shape"
   ]
  },
  {
   "cell_type": "markdown",
   "id": "804dad40-4b97-45e1-bebf-208d40cccb7d",
   "metadata": {},
   "source": [
    "##### Bike sharing dataframe contains 730 rows and 16 columns #####"
   ]
  },
  {
   "cell_type": "markdown",
   "id": "714d075a-d995-41d2-af84-23f024a28138",
   "metadata": {},
   "source": [
    "#### Check for Null Values in Dataset ####"
   ]
  },
  {
   "cell_type": "code",
   "execution_count": 4,
   "id": "3183ea6b-4b77-4ca5-81d2-86cf12f41e5e",
   "metadata": {},
   "outputs": [
    {
     "name": "stdout",
     "output_type": "stream",
     "text": [
      "<class 'pandas.core.frame.DataFrame'>\n",
      "RangeIndex: 730 entries, 0 to 729\n",
      "Data columns (total 16 columns):\n",
      " #   Column      Non-Null Count  Dtype  \n",
      "---  ------      --------------  -----  \n",
      " 0   instant     730 non-null    int64  \n",
      " 1   dteday      730 non-null    object \n",
      " 2   season      730 non-null    int64  \n",
      " 3   yr          730 non-null    int64  \n",
      " 4   mnth        730 non-null    int64  \n",
      " 5   holiday     730 non-null    int64  \n",
      " 6   weekday     730 non-null    int64  \n",
      " 7   workingday  730 non-null    int64  \n",
      " 8   weathersit  730 non-null    int64  \n",
      " 9   temp        730 non-null    float64\n",
      " 10  atemp       730 non-null    float64\n",
      " 11  hum         730 non-null    float64\n",
      " 12  windspeed   730 non-null    float64\n",
      " 13  casual      730 non-null    int64  \n",
      " 14  registered  730 non-null    int64  \n",
      " 15  cnt         730 non-null    int64  \n",
      "dtypes: float64(4), int64(11), object(1)\n",
      "memory usage: 91.4+ KB\n"
     ]
    }
   ],
   "source": [
    "# To check if the data contains any null values\n",
    "bike_sharing_df.info()"
   ]
  },
  {
   "cell_type": "markdown",
   "id": "98bef6d2-f66b-4302-9260-959e141a3630",
   "metadata": {},
   "source": [
    "##### As all the columns contain 730 non null records and total no of records are also 730. It means there are no  null records. Apart from dteday which is of object type, all others are either int or float type #####"
   ]
  },
  {
   "cell_type": "code",
   "execution_count": 5,
   "id": "d9ffcf6a-83f1-4d9c-a9d6-b1d6bbf2d156",
   "metadata": {},
   "outputs": [
    {
     "data": {
      "text/plain": [
       "instant       0\n",
       "dteday        0\n",
       "season        0\n",
       "yr            0\n",
       "mnth          0\n",
       "holiday       0\n",
       "weekday       0\n",
       "workingday    0\n",
       "weathersit    0\n",
       "temp          0\n",
       "atemp         0\n",
       "hum           0\n",
       "windspeed     0\n",
       "casual        0\n",
       "registered    0\n",
       "cnt           0\n",
       "dtype: int64"
      ]
     },
     "execution_count": 5,
     "metadata": {},
     "output_type": "execute_result"
    }
   ],
   "source": [
    "bike_sharing_df.isnull().sum()"
   ]
  },
  {
   "cell_type": "markdown",
   "id": "6b519e05-9d17-4e97-89a9-f7c3acb01f2f",
   "metadata": {},
   "source": [
    "##### No null values in records #####"
   ]
  },
  {
   "cell_type": "markdown",
   "id": "af56070f-dbae-4a6d-98dc-f5b07ed42e06",
   "metadata": {},
   "source": [
    "#### Check for NA values in dataset ####"
   ]
  },
  {
   "cell_type": "code",
   "execution_count": 6,
   "id": "a344995e-8a80-484e-ab41-cb357d7a46ae",
   "metadata": {},
   "outputs": [
    {
     "data": {
      "text/plain": [
       "instant       0\n",
       "dteday        0\n",
       "season        0\n",
       "yr            0\n",
       "mnth          0\n",
       "holiday       0\n",
       "weekday       0\n",
       "workingday    0\n",
       "weathersit    0\n",
       "temp          0\n",
       "atemp         0\n",
       "hum           0\n",
       "windspeed     0\n",
       "casual        0\n",
       "registered    0\n",
       "cnt           0\n",
       "dtype: int64"
      ]
     },
     "execution_count": 6,
     "metadata": {},
     "output_type": "execute_result"
    }
   ],
   "source": [
    "bike_sharing_df.isna().sum()"
   ]
  },
  {
   "cell_type": "markdown",
   "id": "ed145ee8-572d-46a2-b8b6-d12f55e51345",
   "metadata": {},
   "source": [
    "##### No NA values in records #####"
   ]
  },
  {
   "cell_type": "markdown",
   "id": "5f574859-78d0-4bee-8442-1435e97fe53d",
   "metadata": {},
   "source": [
    "#### Check for Min/Max, Mean, Std, 25%, 50%, 75% data in Dataframe ####"
   ]
  },
  {
   "cell_type": "code",
   "execution_count": 7,
   "id": "2fdab3ad-f0ae-41dc-9d35-4d3cb96a642d",
   "metadata": {},
   "outputs": [
    {
     "data": {
      "text/html": [
       "<div>\n",
       "<style scoped>\n",
       "    .dataframe tbody tr th:only-of-type {\n",
       "        vertical-align: middle;\n",
       "    }\n",
       "\n",
       "    .dataframe tbody tr th {\n",
       "        vertical-align: top;\n",
       "    }\n",
       "\n",
       "    .dataframe thead th {\n",
       "        text-align: right;\n",
       "    }\n",
       "</style>\n",
       "<table border=\"1\" class=\"dataframe\">\n",
       "  <thead>\n",
       "    <tr style=\"text-align: right;\">\n",
       "      <th></th>\n",
       "      <th>instant</th>\n",
       "      <th>season</th>\n",
       "      <th>yr</th>\n",
       "      <th>mnth</th>\n",
       "      <th>holiday</th>\n",
       "      <th>weekday</th>\n",
       "      <th>workingday</th>\n",
       "      <th>weathersit</th>\n",
       "      <th>temp</th>\n",
       "      <th>atemp</th>\n",
       "      <th>hum</th>\n",
       "      <th>windspeed</th>\n",
       "      <th>casual</th>\n",
       "      <th>registered</th>\n",
       "      <th>cnt</th>\n",
       "    </tr>\n",
       "  </thead>\n",
       "  <tbody>\n",
       "    <tr>\n",
       "      <th>count</th>\n",
       "      <td>730.000000</td>\n",
       "      <td>730.000000</td>\n",
       "      <td>730.000000</td>\n",
       "      <td>730.000000</td>\n",
       "      <td>730.000000</td>\n",
       "      <td>730.000000</td>\n",
       "      <td>730.000000</td>\n",
       "      <td>730.000000</td>\n",
       "      <td>730.000000</td>\n",
       "      <td>730.000000</td>\n",
       "      <td>730.000000</td>\n",
       "      <td>730.000000</td>\n",
       "      <td>730.000000</td>\n",
       "      <td>730.000000</td>\n",
       "      <td>730.000000</td>\n",
       "    </tr>\n",
       "    <tr>\n",
       "      <th>mean</th>\n",
       "      <td>365.500000</td>\n",
       "      <td>2.498630</td>\n",
       "      <td>0.500000</td>\n",
       "      <td>6.526027</td>\n",
       "      <td>0.028767</td>\n",
       "      <td>2.997260</td>\n",
       "      <td>0.683562</td>\n",
       "      <td>1.394521</td>\n",
       "      <td>20.319259</td>\n",
       "      <td>23.726322</td>\n",
       "      <td>62.765175</td>\n",
       "      <td>12.763620</td>\n",
       "      <td>849.249315</td>\n",
       "      <td>3658.757534</td>\n",
       "      <td>4508.006849</td>\n",
       "    </tr>\n",
       "    <tr>\n",
       "      <th>std</th>\n",
       "      <td>210.877136</td>\n",
       "      <td>1.110184</td>\n",
       "      <td>0.500343</td>\n",
       "      <td>3.450215</td>\n",
       "      <td>0.167266</td>\n",
       "      <td>2.006161</td>\n",
       "      <td>0.465405</td>\n",
       "      <td>0.544807</td>\n",
       "      <td>7.506729</td>\n",
       "      <td>8.150308</td>\n",
       "      <td>14.237589</td>\n",
       "      <td>5.195841</td>\n",
       "      <td>686.479875</td>\n",
       "      <td>1559.758728</td>\n",
       "      <td>1936.011647</td>\n",
       "    </tr>\n",
       "    <tr>\n",
       "      <th>min</th>\n",
       "      <td>1.000000</td>\n",
       "      <td>1.000000</td>\n",
       "      <td>0.000000</td>\n",
       "      <td>1.000000</td>\n",
       "      <td>0.000000</td>\n",
       "      <td>0.000000</td>\n",
       "      <td>0.000000</td>\n",
       "      <td>1.000000</td>\n",
       "      <td>2.424346</td>\n",
       "      <td>3.953480</td>\n",
       "      <td>0.000000</td>\n",
       "      <td>1.500244</td>\n",
       "      <td>2.000000</td>\n",
       "      <td>20.000000</td>\n",
       "      <td>22.000000</td>\n",
       "    </tr>\n",
       "    <tr>\n",
       "      <th>25%</th>\n",
       "      <td>183.250000</td>\n",
       "      <td>2.000000</td>\n",
       "      <td>0.000000</td>\n",
       "      <td>4.000000</td>\n",
       "      <td>0.000000</td>\n",
       "      <td>1.000000</td>\n",
       "      <td>0.000000</td>\n",
       "      <td>1.000000</td>\n",
       "      <td>13.811885</td>\n",
       "      <td>16.889713</td>\n",
       "      <td>52.000000</td>\n",
       "      <td>9.041650</td>\n",
       "      <td>316.250000</td>\n",
       "      <td>2502.250000</td>\n",
       "      <td>3169.750000</td>\n",
       "    </tr>\n",
       "    <tr>\n",
       "      <th>50%</th>\n",
       "      <td>365.500000</td>\n",
       "      <td>3.000000</td>\n",
       "      <td>0.500000</td>\n",
       "      <td>7.000000</td>\n",
       "      <td>0.000000</td>\n",
       "      <td>3.000000</td>\n",
       "      <td>1.000000</td>\n",
       "      <td>1.000000</td>\n",
       "      <td>20.465826</td>\n",
       "      <td>24.368225</td>\n",
       "      <td>62.625000</td>\n",
       "      <td>12.125325</td>\n",
       "      <td>717.000000</td>\n",
       "      <td>3664.500000</td>\n",
       "      <td>4548.500000</td>\n",
       "    </tr>\n",
       "    <tr>\n",
       "      <th>75%</th>\n",
       "      <td>547.750000</td>\n",
       "      <td>3.000000</td>\n",
       "      <td>1.000000</td>\n",
       "      <td>10.000000</td>\n",
       "      <td>0.000000</td>\n",
       "      <td>5.000000</td>\n",
       "      <td>1.000000</td>\n",
       "      <td>2.000000</td>\n",
       "      <td>26.880615</td>\n",
       "      <td>30.445775</td>\n",
       "      <td>72.989575</td>\n",
       "      <td>15.625589</td>\n",
       "      <td>1096.500000</td>\n",
       "      <td>4783.250000</td>\n",
       "      <td>5966.000000</td>\n",
       "    </tr>\n",
       "    <tr>\n",
       "      <th>max</th>\n",
       "      <td>730.000000</td>\n",
       "      <td>4.000000</td>\n",
       "      <td>1.000000</td>\n",
       "      <td>12.000000</td>\n",
       "      <td>1.000000</td>\n",
       "      <td>6.000000</td>\n",
       "      <td>1.000000</td>\n",
       "      <td>3.000000</td>\n",
       "      <td>35.328347</td>\n",
       "      <td>42.044800</td>\n",
       "      <td>97.250000</td>\n",
       "      <td>34.000021</td>\n",
       "      <td>3410.000000</td>\n",
       "      <td>6946.000000</td>\n",
       "      <td>8714.000000</td>\n",
       "    </tr>\n",
       "  </tbody>\n",
       "</table>\n",
       "</div>"
      ],
      "text/plain": [
       "          instant      season          yr        mnth     holiday     weekday  \\\n",
       "count  730.000000  730.000000  730.000000  730.000000  730.000000  730.000000   \n",
       "mean   365.500000    2.498630    0.500000    6.526027    0.028767    2.997260   \n",
       "std    210.877136    1.110184    0.500343    3.450215    0.167266    2.006161   \n",
       "min      1.000000    1.000000    0.000000    1.000000    0.000000    0.000000   \n",
       "25%    183.250000    2.000000    0.000000    4.000000    0.000000    1.000000   \n",
       "50%    365.500000    3.000000    0.500000    7.000000    0.000000    3.000000   \n",
       "75%    547.750000    3.000000    1.000000   10.000000    0.000000    5.000000   \n",
       "max    730.000000    4.000000    1.000000   12.000000    1.000000    6.000000   \n",
       "\n",
       "       workingday  weathersit        temp       atemp         hum   windspeed  \\\n",
       "count  730.000000  730.000000  730.000000  730.000000  730.000000  730.000000   \n",
       "mean     0.683562    1.394521   20.319259   23.726322   62.765175   12.763620   \n",
       "std      0.465405    0.544807    7.506729    8.150308   14.237589    5.195841   \n",
       "min      0.000000    1.000000    2.424346    3.953480    0.000000    1.500244   \n",
       "25%      0.000000    1.000000   13.811885   16.889713   52.000000    9.041650   \n",
       "50%      1.000000    1.000000   20.465826   24.368225   62.625000   12.125325   \n",
       "75%      1.000000    2.000000   26.880615   30.445775   72.989575   15.625589   \n",
       "max      1.000000    3.000000   35.328347   42.044800   97.250000   34.000021   \n",
       "\n",
       "            casual   registered          cnt  \n",
       "count   730.000000   730.000000   730.000000  \n",
       "mean    849.249315  3658.757534  4508.006849  \n",
       "std     686.479875  1559.758728  1936.011647  \n",
       "min       2.000000    20.000000    22.000000  \n",
       "25%     316.250000  2502.250000  3169.750000  \n",
       "50%     717.000000  3664.500000  4548.500000  \n",
       "75%    1096.500000  4783.250000  5966.000000  \n",
       "max    3410.000000  6946.000000  8714.000000  "
      ]
     },
     "execution_count": 7,
     "metadata": {},
     "output_type": "execute_result"
    }
   ],
   "source": [
    "bike_sharing_df.describe()"
   ]
  },
  {
   "cell_type": "markdown",
   "id": "6baefb77-93bf-4f19-a13b-bf3ecd9783f1",
   "metadata": {},
   "source": [
    "#### Delete Unnecessary Columns ####"
   ]
  },
  {
   "cell_type": "markdown",
   "id": "2b001106-3f72-4949-b112-1326fb06d360",
   "metadata": {},
   "source": [
    "- From the above analysis we can see that intsant column is unique id and it will not be required in analysis. Hence it can be dropped\n",
    "- dteday column is of object type while others attribute is of int/float type. Since year and month column is already there so we can drop dteday column"
   ]
  },
  {
   "cell_type": "code",
   "execution_count": 8,
   "id": "38b16a84-2da3-4730-9316-909c1dce9dd7",
   "metadata": {},
   "outputs": [
    {
     "data": {
      "text/plain": [
       "['instant', 'dteday']"
      ]
     },
     "execution_count": 8,
     "metadata": {},
     "output_type": "execute_result"
    }
   ],
   "source": [
    "## Check for Unique columns\n",
    "unique_cl = [col for col in bike_sharing_df.columns if bike_sharing_df[col].nunique() == len(bike_sharing_df)]\n",
    "unique_cl"
   ]
  },
  {
   "cell_type": "markdown",
   "id": "6709862e-982a-42cf-96d3-6b36ac9d2d63",
   "metadata": {},
   "source": [
    "#### Dropping Unique Columns ####"
   ]
  },
  {
   "cell_type": "code",
   "execution_count": 9,
   "id": "a9cf7e71-214b-4e02-9ed2-bba9e57130cc",
   "metadata": {},
   "outputs": [],
   "source": [
    "bike_sharing_df.drop(unique_cl,axis=1, inplace =True)"
   ]
  },
  {
   "cell_type": "markdown",
   "id": "b6c990d9-789a-4dd0-b6b0-6c72ae3f84db",
   "metadata": {},
   "source": [
    "#### Check for Shape of Bike Sharing Dataframe ####"
   ]
  },
  {
   "cell_type": "code",
   "execution_count": 10,
   "id": "c83b6247-efd4-49fb-923f-811992930dca",
   "metadata": {},
   "outputs": [
    {
     "data": {
      "text/plain": [
       "(730, 14)"
      ]
     },
     "execution_count": 10,
     "metadata": {},
     "output_type": "execute_result"
    }
   ],
   "source": [
    "bike_sharing_df.shape"
   ]
  },
  {
   "cell_type": "markdown",
   "id": "413f483a-449d-4057-9dfa-e738338edd30",
   "metadata": {},
   "source": [
    "#### Checking for Duplicate Rows ####"
   ]
  },
  {
   "cell_type": "code",
   "execution_count": 11,
   "id": "df420c07-f240-4924-a5c7-e277c74367e1",
   "metadata": {},
   "outputs": [
    {
     "data": {
      "text/plain": [
       "0"
      ]
     },
     "execution_count": 11,
     "metadata": {},
     "output_type": "execute_result"
    }
   ],
   "source": [
    "duplicate_rows= len(bike_sharing_df[bike_sharing_df.duplicated()])\n",
    "duplicate_rows"
   ]
  },
  {
   "cell_type": "markdown",
   "id": "433d7518-1ec8-4b39-9e10-68d485db24fe",
   "metadata": {},
   "source": [
    "##### No duplicate records found #####"
   ]
  },
  {
   "cell_type": "markdown",
   "id": "16339712-125d-4c24-8ff5-bb488df79933",
   "metadata": {},
   "source": [
    "#### Checking for Unique records in other columns ####"
   ]
  },
  {
   "cell_type": "code",
   "execution_count": 12,
   "id": "10194c59-d4f0-44c5-a52c-ea589b1ff129",
   "metadata": {},
   "outputs": [
    {
     "data": {
      "text/plain": [
       "yr              2\n",
       "holiday         2\n",
       "workingday      2\n",
       "weathersit      3\n",
       "season          4\n",
       "weekday         7\n",
       "mnth           12\n",
       "temp          498\n",
       "hum           594\n",
       "casual        605\n",
       "windspeed     649\n",
       "registered    678\n",
       "atemp         689\n",
       "cnt           695\n",
       "dtype: int64"
      ]
     },
     "execution_count": 12,
     "metadata": {},
     "output_type": "execute_result"
    }
   ],
   "source": [
    "bike_sharing_df.nunique().sort_values()"
   ]
  },
  {
   "cell_type": "markdown",
   "id": "078f2b9e-a006-4e97-bc8b-682233a6b0a9",
   "metadata": {},
   "source": [
    "As per data dictionary  categorical variable has following values\n",
    "\n",
    "- yr has two values(2018, 2019)\n",
    "- holiday has two values (0,1)\n",
    "- season has four values (spring, summer, fall, winter)\n",
    "- working day has two values (0,1)\n",
    "- according to data dictionary weathersit has four values() but as per data it has three values"
   ]
  },
  {
   "cell_type": "code",
   "execution_count": 13,
   "id": "3247a20d-4d65-4b59-9d31-b26b8cd304ec",
   "metadata": {},
   "outputs": [
    {
     "data": {
      "text/plain": [
       "weathersit\n",
       "1    463\n",
       "2    246\n",
       "3     21\n",
       "Name: count, dtype: int64"
      ]
     },
     "execution_count": 13,
     "metadata": {},
     "output_type": "execute_result"
    }
   ],
   "source": [
    "bike_sharing_df['weathersit'].value_counts()"
   ]
  },
  {
   "cell_type": "markdown",
   "id": "09e9b494-b320-427b-afdb-1c7de8375dc5",
   "metadata": {},
   "source": [
    "#### Transforming Data ####"
   ]
  },
  {
   "cell_type": "code",
   "execution_count": 14,
   "id": "8917f484-f16b-4914-bd39-2ddecd79747b",
   "metadata": {},
   "outputs": [],
   "source": [
    "## Replace categorical variable with categories instead of numeric\n",
    "bike_sharing_df.season.replace({1:\"spring\", 2:\"summer\", 3:\"fall\", 4:\"winter\"}, inplace=True)\n",
    "bike_sharing_df.weathersit.replace({1:\"Clear\", 2:\"Mist\", 3:\"Light Mist\", 4:\"Heavy Rain\"}, inplace=True)\n",
    "bike_sharing_df.mnth.replace({1:\"Jan\", 2:\"Feb\", 3:\"March\", 4:\"April\", 5:\"May\",6:\"June\", 7:\"July\", 8:\"August\", 9:\"September\", 10:\"October\",11:\"November\", 12:\"December\"}, inplace=True)\n",
    "bike_sharing_df.weekday.replace({0:\"Sunday\", 1:\"Monday\", 2:\"Tuesday\", 3:\"Wednesday\",4:\"Thursday\",5:\"Friday\", 6:\"Saturday\"}, inplace=True)"
   ]
  },
  {
   "cell_type": "code",
   "execution_count": 15,
   "id": "29602b2f-1aaf-4d57-b6be-18f6d5d053b5",
   "metadata": {},
   "outputs": [
    {
     "data": {
      "text/html": [
       "<div>\n",
       "<style scoped>\n",
       "    .dataframe tbody tr th:only-of-type {\n",
       "        vertical-align: middle;\n",
       "    }\n",
       "\n",
       "    .dataframe tbody tr th {\n",
       "        vertical-align: top;\n",
       "    }\n",
       "\n",
       "    .dataframe thead th {\n",
       "        text-align: right;\n",
       "    }\n",
       "</style>\n",
       "<table border=\"1\" class=\"dataframe\">\n",
       "  <thead>\n",
       "    <tr style=\"text-align: right;\">\n",
       "      <th></th>\n",
       "      <th>season</th>\n",
       "      <th>yr</th>\n",
       "      <th>mnth</th>\n",
       "      <th>holiday</th>\n",
       "      <th>weekday</th>\n",
       "      <th>workingday</th>\n",
       "      <th>weathersit</th>\n",
       "      <th>temp</th>\n",
       "      <th>atemp</th>\n",
       "      <th>hum</th>\n",
       "      <th>windspeed</th>\n",
       "      <th>casual</th>\n",
       "      <th>registered</th>\n",
       "      <th>cnt</th>\n",
       "    </tr>\n",
       "  </thead>\n",
       "  <tbody>\n",
       "    <tr>\n",
       "      <th>0</th>\n",
       "      <td>spring</td>\n",
       "      <td>0</td>\n",
       "      <td>Jan</td>\n",
       "      <td>0</td>\n",
       "      <td>Saturday</td>\n",
       "      <td>0</td>\n",
       "      <td>Mist</td>\n",
       "      <td>14.110847</td>\n",
       "      <td>18.18125</td>\n",
       "      <td>80.5833</td>\n",
       "      <td>10.749882</td>\n",
       "      <td>331</td>\n",
       "      <td>654</td>\n",
       "      <td>985</td>\n",
       "    </tr>\n",
       "    <tr>\n",
       "      <th>1</th>\n",
       "      <td>spring</td>\n",
       "      <td>0</td>\n",
       "      <td>Jan</td>\n",
       "      <td>0</td>\n",
       "      <td>Sunday</td>\n",
       "      <td>0</td>\n",
       "      <td>Mist</td>\n",
       "      <td>14.902598</td>\n",
       "      <td>17.68695</td>\n",
       "      <td>69.6087</td>\n",
       "      <td>16.652113</td>\n",
       "      <td>131</td>\n",
       "      <td>670</td>\n",
       "      <td>801</td>\n",
       "    </tr>\n",
       "    <tr>\n",
       "      <th>2</th>\n",
       "      <td>spring</td>\n",
       "      <td>0</td>\n",
       "      <td>Jan</td>\n",
       "      <td>0</td>\n",
       "      <td>Monday</td>\n",
       "      <td>1</td>\n",
       "      <td>Clear</td>\n",
       "      <td>8.050924</td>\n",
       "      <td>9.47025</td>\n",
       "      <td>43.7273</td>\n",
       "      <td>16.636703</td>\n",
       "      <td>120</td>\n",
       "      <td>1229</td>\n",
       "      <td>1349</td>\n",
       "    </tr>\n",
       "    <tr>\n",
       "      <th>3</th>\n",
       "      <td>spring</td>\n",
       "      <td>0</td>\n",
       "      <td>Jan</td>\n",
       "      <td>0</td>\n",
       "      <td>Tuesday</td>\n",
       "      <td>1</td>\n",
       "      <td>Clear</td>\n",
       "      <td>8.200000</td>\n",
       "      <td>10.60610</td>\n",
       "      <td>59.0435</td>\n",
       "      <td>10.739832</td>\n",
       "      <td>108</td>\n",
       "      <td>1454</td>\n",
       "      <td>1562</td>\n",
       "    </tr>\n",
       "    <tr>\n",
       "      <th>4</th>\n",
       "      <td>spring</td>\n",
       "      <td>0</td>\n",
       "      <td>Jan</td>\n",
       "      <td>0</td>\n",
       "      <td>Wednesday</td>\n",
       "      <td>1</td>\n",
       "      <td>Clear</td>\n",
       "      <td>9.305237</td>\n",
       "      <td>11.46350</td>\n",
       "      <td>43.6957</td>\n",
       "      <td>12.522300</td>\n",
       "      <td>82</td>\n",
       "      <td>1518</td>\n",
       "      <td>1600</td>\n",
       "    </tr>\n",
       "    <tr>\n",
       "      <th>...</th>\n",
       "      <td>...</td>\n",
       "      <td>...</td>\n",
       "      <td>...</td>\n",
       "      <td>...</td>\n",
       "      <td>...</td>\n",
       "      <td>...</td>\n",
       "      <td>...</td>\n",
       "      <td>...</td>\n",
       "      <td>...</td>\n",
       "      <td>...</td>\n",
       "      <td>...</td>\n",
       "      <td>...</td>\n",
       "      <td>...</td>\n",
       "      <td>...</td>\n",
       "    </tr>\n",
       "    <tr>\n",
       "      <th>725</th>\n",
       "      <td>spring</td>\n",
       "      <td>1</td>\n",
       "      <td>December</td>\n",
       "      <td>0</td>\n",
       "      <td>Thursday</td>\n",
       "      <td>1</td>\n",
       "      <td>Mist</td>\n",
       "      <td>10.420847</td>\n",
       "      <td>11.33210</td>\n",
       "      <td>65.2917</td>\n",
       "      <td>23.458911</td>\n",
       "      <td>247</td>\n",
       "      <td>1867</td>\n",
       "      <td>2114</td>\n",
       "    </tr>\n",
       "    <tr>\n",
       "      <th>726</th>\n",
       "      <td>spring</td>\n",
       "      <td>1</td>\n",
       "      <td>December</td>\n",
       "      <td>0</td>\n",
       "      <td>Friday</td>\n",
       "      <td>1</td>\n",
       "      <td>Mist</td>\n",
       "      <td>10.386653</td>\n",
       "      <td>12.75230</td>\n",
       "      <td>59.0000</td>\n",
       "      <td>10.416557</td>\n",
       "      <td>644</td>\n",
       "      <td>2451</td>\n",
       "      <td>3095</td>\n",
       "    </tr>\n",
       "    <tr>\n",
       "      <th>727</th>\n",
       "      <td>spring</td>\n",
       "      <td>1</td>\n",
       "      <td>December</td>\n",
       "      <td>0</td>\n",
       "      <td>Saturday</td>\n",
       "      <td>0</td>\n",
       "      <td>Mist</td>\n",
       "      <td>10.386653</td>\n",
       "      <td>12.12000</td>\n",
       "      <td>75.2917</td>\n",
       "      <td>8.333661</td>\n",
       "      <td>159</td>\n",
       "      <td>1182</td>\n",
       "      <td>1341</td>\n",
       "    </tr>\n",
       "    <tr>\n",
       "      <th>728</th>\n",
       "      <td>spring</td>\n",
       "      <td>1</td>\n",
       "      <td>December</td>\n",
       "      <td>0</td>\n",
       "      <td>Sunday</td>\n",
       "      <td>0</td>\n",
       "      <td>Clear</td>\n",
       "      <td>10.489153</td>\n",
       "      <td>11.58500</td>\n",
       "      <td>48.3333</td>\n",
       "      <td>23.500518</td>\n",
       "      <td>364</td>\n",
       "      <td>1432</td>\n",
       "      <td>1796</td>\n",
       "    </tr>\n",
       "    <tr>\n",
       "      <th>729</th>\n",
       "      <td>spring</td>\n",
       "      <td>1</td>\n",
       "      <td>December</td>\n",
       "      <td>0</td>\n",
       "      <td>Monday</td>\n",
       "      <td>1</td>\n",
       "      <td>Mist</td>\n",
       "      <td>8.849153</td>\n",
       "      <td>11.17435</td>\n",
       "      <td>57.7500</td>\n",
       "      <td>10.374682</td>\n",
       "      <td>439</td>\n",
       "      <td>2290</td>\n",
       "      <td>2729</td>\n",
       "    </tr>\n",
       "  </tbody>\n",
       "</table>\n",
       "<p>730 rows × 14 columns</p>\n",
       "</div>"
      ],
      "text/plain": [
       "     season  yr      mnth  holiday    weekday  workingday weathersit  \\\n",
       "0    spring   0       Jan        0   Saturday           0       Mist   \n",
       "1    spring   0       Jan        0     Sunday           0       Mist   \n",
       "2    spring   0       Jan        0     Monday           1      Clear   \n",
       "3    spring   0       Jan        0    Tuesday           1      Clear   \n",
       "4    spring   0       Jan        0  Wednesday           1      Clear   \n",
       "..      ...  ..       ...      ...        ...         ...        ...   \n",
       "725  spring   1  December        0   Thursday           1       Mist   \n",
       "726  spring   1  December        0     Friday           1       Mist   \n",
       "727  spring   1  December        0   Saturday           0       Mist   \n",
       "728  spring   1  December        0     Sunday           0      Clear   \n",
       "729  spring   1  December        0     Monday           1       Mist   \n",
       "\n",
       "          temp     atemp      hum  windspeed  casual  registered   cnt  \n",
       "0    14.110847  18.18125  80.5833  10.749882     331         654   985  \n",
       "1    14.902598  17.68695  69.6087  16.652113     131         670   801  \n",
       "2     8.050924   9.47025  43.7273  16.636703     120        1229  1349  \n",
       "3     8.200000  10.60610  59.0435  10.739832     108        1454  1562  \n",
       "4     9.305237  11.46350  43.6957  12.522300      82        1518  1600  \n",
       "..         ...       ...      ...        ...     ...         ...   ...  \n",
       "725  10.420847  11.33210  65.2917  23.458911     247        1867  2114  \n",
       "726  10.386653  12.75230  59.0000  10.416557     644        2451  3095  \n",
       "727  10.386653  12.12000  75.2917   8.333661     159        1182  1341  \n",
       "728  10.489153  11.58500  48.3333  23.500518     364        1432  1796  \n",
       "729   8.849153  11.17435  57.7500  10.374682     439        2290  2729  \n",
       "\n",
       "[730 rows x 14 columns]"
      ]
     },
     "execution_count": 15,
     "metadata": {},
     "output_type": "execute_result"
    }
   ],
   "source": [
    "bike_sharing_df"
   ]
  },
  {
   "cell_type": "markdown",
   "id": "4ee0f1c2-4812-4095-b441-84623bbb682a",
   "metadata": {},
   "source": [
    "### Exploratory Data Analysis ###"
   ]
  },
  {
   "cell_type": "markdown",
   "id": "91892874-a475-4032-a936-fdb65d9ea2d1",
   "metadata": {},
   "source": [
    "#### Univariate Analysis ####"
   ]
  },
  {
   "cell_type": "markdown",
   "id": "0e8adb28-eba7-43be-b6b1-e9eda2de849c",
   "metadata": {},
   "source": [
    "##### Outlier Detections for Numerical Columns #####\n",
    "\n",
    "- temp\n",
    "- atemp\n",
    "- hum\n",
    "- windspeed\n",
    "\n",
    "##### Note: casual and registered are not required as cnt is sum of casual and registered #####\n",
    "##### Note: yr, holiday and working day have only two values (0,1)"
   ]
  },
  {
   "cell_type": "markdown",
   "id": "a138a976-9917-4fc2-933a-65b838470b58",
   "metadata": {},
   "source": [
    "#### Outlier Detection for Temp ####"
   ]
  },
  {
   "cell_type": "code",
   "execution_count": 16,
   "id": "34355569-72e5-49b7-a818-72d7a4325d52",
   "metadata": {},
   "outputs": [
    {
     "data": {
      "text/plain": [
       "<Axes: ylabel='temp'>"
      ]
     },
     "execution_count": 16,
     "metadata": {},
     "output_type": "execute_result"
    },
    {
     "data": {
      "image/png": "[encoded data removed]",
      "text/plain": [
       "<Figure size 640x480 with 1 Axes>"
      ]
     },
     "metadata": {},
     "output_type": "display_data"
    }
   ],
   "source": [
    "sns.boxplot(bike_sharing_df.temp)"
   ]
  },
  {
   "cell_type": "code",
   "execution_count": 17,
   "id": "1e4a2d04-99a7-4539-bc3b-55190f1a93e9",
   "metadata": {},
   "outputs": [
    {
     "data": {
      "text/plain": [
       "0.75    26.880615\n",
       "0.80    28.125992\n",
       "0.85    29.144153\n",
       "0.90    29.998347\n",
       "0.95    31.520460\n",
       "0.97    32.052787\n",
       "0.98    32.999536\n",
       "0.99    33.868050\n",
       "1.00    35.328347\n",
       "Name: temp, dtype: float64"
      ]
     },
     "execution_count": 17,
     "metadata": {},
     "output_type": "execute_result"
    }
   ],
   "source": [
    "#checking the quantile value for temp to see if any data needs to be removed\n",
    "\n",
    "bike_sharing_df.temp.quantile([0.75,0.80 ,0.85,0.90,0.95,0.97,0.98,0.99,1])"
   ]
  },
  {
   "cell_type": "markdown",
   "id": "ed1feb98-2063-480b-96fb-3b2a365eead1",
   "metadata": {},
   "source": [
    "<b> There is no huge difference in temp data and distribution is almost consistent\r\n",
    "No need to remove any outliers fromtempt colum</b>\n",
    "\r\n"
   ]
  },
  {
   "cell_type": "markdown",
   "id": "e61dd520-8790-4a33-827d-462b69e30fad",
   "metadata": {},
   "source": [
    "#### Outlier Detection for atemp ####"
   ]
  },
  {
   "cell_type": "code",
   "execution_count": 18,
   "id": "1da085ed-c284-4e55-b779-ac0942a0b156",
   "metadata": {},
   "outputs": [
    {
     "data": {
      "text/plain": [
       "<Axes: ylabel='atemp'>"
      ]
     },
     "execution_count": 18,
     "metadata": {},
     "output_type": "execute_result"
    },
    {
     "data": {
      "image/png": "[encoded data removed]",
      "text/plain": [
       "<Figure size 640x480 with 1 Axes>"
      ]
     },
     "metadata": {},
     "output_type": "display_data"
    }
   ],
   "source": [
    "sns.boxplot(bike_sharing_df.atemp)"
   ]
  },
  {
   "cell_type": "code",
   "execution_count": 19,
   "id": "2b90e775-61db-4dff-8be3-19947c4b41e2",
   "metadata": {},
   "outputs": [
    {
     "data": {
      "text/plain": [
       "0.75    30.445775\n",
       "0.80    31.881620\n",
       "0.85    32.734530\n",
       "0.90    33.908210\n",
       "0.95    35.749975\n",
       "0.97    36.629070\n",
       "0.98    37.440100\n",
       "0.99    38.941650\n",
       "1.00    42.044800\n",
       "Name: atemp, dtype: float64"
      ]
     },
     "execution_count": 19,
     "metadata": {},
     "output_type": "execute_result"
    }
   ],
   "source": [
    "#checking the quantile value for atemp to see if any data needs to be removed\n",
    "\n",
    "bike_sharing_df.atemp.quantile([0.75,0.80 ,0.85,0.90,0.95,0.97,0.98,0.99,1])"
   ]
  },
  {
   "cell_type": "markdown",
   "id": "5087cc7d-e8b6-425a-8bd7-dc5d5a99f5a9",
   "metadata": {},
   "source": [
    "<b> There is no huge difference in atemp data and distribution is almost consistent\n",
    "No need to remove any outliers from atemp column</b>"
   ]
  },
  {
   "cell_type": "markdown",
   "id": "361be350-bee5-49b9-8319-56d0b588ef28",
   "metadata": {},
   "source": [
    "#### Outlier Detection for hum ####"
   ]
  },
  {
   "cell_type": "code",
   "execution_count": 20,
   "id": "7855548a-0423-4037-92a5-1d6130ad0123",
   "metadata": {},
   "outputs": [
    {
     "data": {
      "text/plain": [
       "<Axes: ylabel='hum'>"
      ]
     },
     "execution_count": 20,
     "metadata": {},
     "output_type": "execute_result"
    },
    {
     "data": {
      "image/png": "[encoded data removed]",
      "text/plain": [
       "<Figure size 640x480 with 1 Axes>"
      ]
     },
     "metadata": {},
     "output_type": "display_data"
    }
   ],
   "source": [
    "sns.boxplot(bike_sharing_df.hum)"
   ]
  },
  {
   "cell_type": "code",
   "execution_count": 21,
   "id": "aeedc59b-c8cc-4749-b10a-0253e6dc7e4a",
   "metadata": {},
   "outputs": [
    {
     "data": {
      "text/plain": [
       "0.75    72.989575\n",
       "0.80    75.291700\n",
       "0.85    77.568740\n",
       "0.90    81.762500\n",
       "0.95    86.868735\n",
       "0.97    89.540550\n",
       "0.98    90.830814\n",
       "0.99    92.795857\n",
       "1.00    97.250000\n",
       "Name: hum, dtype: float64"
      ]
     },
     "execution_count": 21,
     "metadata": {},
     "output_type": "execute_result"
    }
   ],
   "source": [
    "#checking the quantile value for hum to see if any data needs to be removed\n",
    "\n",
    "bike_sharing_df.hum.quantile([0.75,0.80 ,0.85,0.90,0.95,0.97,0.98,0.99,1])"
   ]
  },
  {
   "cell_type": "markdown",
   "id": "1ebd9fa3-6efd-4f6d-be42-0e255ce9461c",
   "metadata": {},
   "source": [
    "<b> There is no huge difference in hum data and distribution is almost consistent\n",
    "No need to remove any outliers from hum column</b>"
   ]
  },
  {
   "cell_type": "markdown",
   "id": "b218e543-c0a2-4c30-8ddc-6a9c929ed14a",
   "metadata": {},
   "source": [
    "#### Outlier Detection for windspeed ####"
   ]
  },
  {
   "cell_type": "code",
   "execution_count": 22,
   "id": "35739123-e185-4b1a-affe-32f526cf54f4",
   "metadata": {},
   "outputs": [
    {
     "data": {
      "text/plain": [
       "<Axes: ylabel='windspeed'>"
      ]
     },
     "execution_count": 22,
     "metadata": {},
     "output_type": "execute_result"
    },
    {
     "data": {
      "image/png": "[encoded data removed]",
      "text/plain": [
       "<Figure size 640x480 with 1 Axes>"
      ]
     },
     "metadata": {},
     "output_type": "display_data"
    }
   ],
   "source": [
    "sns.boxplot(bike_sharing_df.windspeed)"
   ]
  },
  {
   "cell_type": "code",
   "execution_count": 23,
   "id": "07d80ed1-5d44-4edf-81a9-9ebe23e59669",
   "metadata": {},
   "outputs": [
    {
     "data": {
      "text/plain": [
       "0.75    15.625589\n",
       "0.80    16.639785\n",
       "0.85    18.128709\n",
       "0.90    19.833997\n",
       "0.95    22.999988\n",
       "0.97    23.999167\n",
       "0.98    25.201627\n",
       "0.99    27.380948\n",
       "1.00    34.000021\n",
       "Name: windspeed, dtype: float64"
      ]
     },
     "execution_count": 23,
     "metadata": {},
     "output_type": "execute_result"
    }
   ],
   "source": [
    "#checking the quantile value for hum to see if any data needs to be removed\n",
    "\n",
    "bike_sharing_df.windspeed.quantile([0.75,0.80 ,0.85,0.90,0.95,0.97,0.98,0.99,1])"
   ]
  },
  {
   "cell_type": "markdown",
   "id": "86e8e5cf-8094-4ace-994b-2f211c48d183",
   "metadata": {},
   "source": [
    "<b> There is no huge difference in windspeed data and distribution is almost consistent\n",
    "No need to remove any outliers from windspeed column</b>"
   ]
  },
  {
   "cell_type": "markdown",
   "id": "86cf700c-2d46-459f-ae10-d0043ac9a827",
   "metadata": {},
   "source": [
    "#### Analysis of Month and Year ####"
   ]
  },
  {
   "cell_type": "code",
   "execution_count": 24,
   "id": "3db8879d-7704-487d-9b15-3557d7ba40b4",
   "metadata": {},
   "outputs": [
    {
     "data": {
      "image/png": "[encoded data removed]",
      "text/plain": [
       "<Figure size 1600x600 with 1 Axes>"
      ]
     },
     "metadata": {},
     "output_type": "display_data"
    }
   ],
   "source": [
    "plt.figure(figsize=(16,6))\n",
    "sns.lineplot(x = \"mnth\", y = \"cnt\", data=bike_sharing_df,hue = \"yr\")\n",
    "plt.show()"
   ]
  },
  {
   "cell_type": "markdown",
   "id": "9d7d589b-3796-4a60-a17d-229d35cc87cd",
   "metadata": {},
   "source": [
    "<b> Count increased in 2019 as compared to 2018 </b>"
   ]
  },
  {
   "cell_type": "markdown",
   "id": "f60b998f-236a-4e14-b7d8-2e307d7d1cfa",
   "metadata": {},
   "source": [
    "<b>Observations</b>\n",
    "- cnt has increased from 2018 to 2019\n",
    "- cnt is higher from May to October\n",
    "- No outliers present"
   ]
  },
  {
   "cell_type": "markdown",
   "id": "b1b4f8fa-160a-4a85-b227-d7bea22e7935",
   "metadata": {},
   "source": [
    "#### Bivariate Analysis of Categorical Columns ####\n",
    "- season\n",
    "- weathersit\n",
    "- holiday\n",
    "- weekday"
   ]
  },
  {
   "cell_type": "markdown",
   "id": "2c3ea764-b8a9-4a58-b633-c2676a6adb40",
   "metadata": {},
   "source": [
    "<b> Analysis of Season with respect to Count</b>"
   ]
  },
  {
   "cell_type": "code",
   "execution_count": 25,
   "id": "0f5b1839-e565-49ac-95ef-7d834a3db672",
   "metadata": {},
   "outputs": [
    {
     "data": {
      "text/plain": [
       "<Axes: xlabel='season', ylabel='cnt'>"
      ]
     },
     "execution_count": 25,
     "metadata": {},
     "output_type": "execute_result"
    },
    {
     "data": {
      "image/png": "[encoded data removed]",
      "text/plain": [
       "<Figure size 640x480 with 1 Axes>"
      ]
     },
     "metadata": {},
     "output_type": "display_data"
    }
   ],
   "source": [
    "sns.barplot(x='season', y='cnt', data=bike_sharing_df)"
   ]
  },
  {
   "cell_type": "markdown",
   "id": "659646a7-6ad4-4f84-a741-cdd02091c8ca",
   "metadata": {},
   "source": [
    "<b> Fall season having high no of count</b>"
   ]
  },
  {
   "cell_type": "markdown",
   "id": "48226ac4-4c58-4d50-b796-2bbf296be35d",
   "metadata": {},
   "source": [
    "<b> Analysis of Season with respect to Count and compare the count for both the years</b>"
   ]
  },
  {
   "cell_type": "code",
   "execution_count": 26,
   "id": "a2a0ded7-6855-41f9-9ce3-958b4dd7a90a",
   "metadata": {},
   "outputs": [
    {
     "data": {
      "text/plain": [
       "<Axes: xlabel='season', ylabel='cnt'>"
      ]
     },
     "execution_count": 26,
     "metadata": {},
     "output_type": "execute_result"
    },
    {
     "data": {
      "image/png": "[encoded data removed]",
      "text/plain": [
       "<Figure size 640x480 with 1 Axes>"
      ]
     },
     "metadata": {},
     "output_type": "display_data"
    }
   ],
   "source": [
    "sns.barplot(x='season', y='cnt', data=bike_sharing_df, hue='yr')"
   ]
  },
  {
   "cell_type": "markdown",
   "id": "7e56be1e-132b-466d-9cf9-09d103dd6628",
   "metadata": {},
   "source": [
    "<b> Count is higher in 2019 as compared to 2018 for all seasons</b>"
   ]
  },
  {
   "cell_type": "markdown",
   "id": "f1c6ef1e-9196-42b2-8cd3-7839f8f64062",
   "metadata": {},
   "source": [
    "<b>Observations</b>\n",
    "- Fall season having high no of count\n",
    "- Count is higher in 2019 as compared to 2018 for all seasons"
   ]
  },
  {
   "cell_type": "markdown",
   "id": "1c1d0ee3-34cc-42be-a5d1-022b2804d694",
   "metadata": {},
   "source": [
    "<b> Analysis of weathersit with respect to Count</b>"
   ]
  },
  {
   "cell_type": "code",
   "execution_count": 27,
   "id": "20997c7e-7b43-41da-b361-860557296a00",
   "metadata": {},
   "outputs": [
    {
     "data": {
      "text/plain": [
       "<Axes: xlabel='weathersit', ylabel='cnt'>"
      ]
     },
     "execution_count": 27,
     "metadata": {},
     "output_type": "execute_result"
    },
    {
     "data": {
      "image/png": "[encoded data removed]",
      "text/plain": [
       "<Figure size 640x480 with 1 Axes>"
      ]
     },
     "metadata": {},
     "output_type": "display_data"
    }
   ],
   "source": [
    "sns.barplot(x='weathersit', y='cnt', data=bike_sharing_df)"
   ]
  },
  {
   "cell_type": "markdown",
   "id": "1a69213b-02bc-4fc4-a474-0c214da514f5",
   "metadata": {},
   "source": [
    "<b> Count is higher when it is clear weather</b>"
   ]
  },
  {
   "cell_type": "markdown",
   "id": "14e30a3c-3a31-4aaf-9a57-4a6b3b3f5fab",
   "metadata": {},
   "source": [
    "<b> Analysis of Weathersit with respect to Count and compare the count for both the years</b>"
   ]
  },
  {
   "cell_type": "code",
   "execution_count": 28,
   "id": "1aa46f8c-2db5-464b-a246-5071ccea0b1c",
   "metadata": {},
   "outputs": [
    {
     "data": {
      "text/plain": [
       "<Axes: xlabel='weathersit', ylabel='cnt'>"
      ]
     },
     "execution_count": 28,
     "metadata": {},
     "output_type": "execute_result"
    },
    {
     "data": {
      "image/png": "[encoded data removed]",
      "text/plain": [
       "<Figure size 640x480 with 1 Axes>"
      ]
     },
     "metadata": {},
     "output_type": "display_data"
    }
   ],
   "source": [
    "sns.barplot(x='weathersit', y='cnt', data=bike_sharing_df,hue='yr')"
   ]
  },
  {
   "cell_type": "markdown",
   "id": "b0d859b7-ca0c-4a27-993d-c1751c391a4c",
   "metadata": {},
   "source": [
    "<b>Count is higher in 2019 as compared to 2018 for all weathersit</b>"
   ]
  },
  {
   "cell_type": "markdown",
   "id": "e1b81356-6ea9-46e5-8da3-8aeb58c47821",
   "metadata": {},
   "source": [
    "<b>Observations</b>\n",
    "- Count is higher when it is clear weather\n",
    "- Count is higher in 2019 as compared to 2018 for all weathersit"
   ]
  },
  {
   "cell_type": "markdown",
   "id": "eb7ee158-b282-467d-abdf-9d8f8270ddbe",
   "metadata": {},
   "source": [
    "<b> Analysis of holiday with respect to Count</b>"
   ]
  },
  {
   "cell_type": "code",
   "execution_count": 29,
   "id": "bc8bd234-1b89-401d-8b79-c1bd025f3d5c",
   "metadata": {},
   "outputs": [
    {
     "data": {
      "text/plain": [
       "<Axes: xlabel='holiday', ylabel='cnt'>"
      ]
     },
     "execution_count": 29,
     "metadata": {},
     "output_type": "execute_result"
    },
    {
     "data": {
      "image/png": "[encoded data removed]",
      "text/plain": [
       "<Figure size 640x480 with 1 Axes>"
      ]
     },
     "metadata": {},
     "output_type": "display_data"
    }
   ],
   "source": [
    "sns.barplot(x='holiday', y='cnt', data=bike_sharing_df)"
   ]
  },
  {
   "cell_type": "markdown",
   "id": "50956142-1ce0-4a5d-9504-b883a42ac7d5",
   "metadata": {},
   "source": [
    "<b>Count is higher on Non holidays</b>"
   ]
  },
  {
   "cell_type": "markdown",
   "id": "a7ec766e-1bfa-44c0-8df6-fb60457dde96",
   "metadata": {},
   "source": [
    " <b> Analysis of holiday with respect to Count and year</b>"
   ]
  },
  {
   "cell_type": "code",
   "execution_count": 30,
   "id": "358cfb60-ea38-4820-9f4c-3ad13050e2e3",
   "metadata": {},
   "outputs": [
    {
     "data": {
      "text/plain": [
       "<Axes: xlabel='holiday', ylabel='cnt'>"
      ]
     },
     "execution_count": 30,
     "metadata": {},
     "output_type": "execute_result"
    },
    {
     "data": {
      "image/png": "[encoded data removed]",
      "text/plain": [
       "<Figure size 640x480 with 1 Axes>"
      ]
     },
     "metadata": {},
     "output_type": "display_data"
    }
   ],
   "source": [
    "sns.barplot(x='holiday', y='cnt', data=bike_sharing_df, hue='yr')"
   ]
  },
  {
   "cell_type": "markdown",
   "id": "33b2a296-7b99-45ca-81dc-44034fb0de86",
   "metadata": {},
   "source": [
    "<b>Count increased in 2019 as compared to 2018 for both holidays and non hoidays</b>"
   ]
  },
  {
   "cell_type": "markdown",
   "id": "81564d51-c356-40e3-bbb3-930c6b2b1815",
   "metadata": {},
   "source": [
    "<b>Observations</b>\n",
    "- Count is higher on Non holidays\n",
    "- Count increased in 2019 as compared to 2018 for both holidays and non hoidays"
   ]
  },
  {
   "cell_type": "markdown",
   "id": "12c2b8f0-0047-43ab-88a3-40d9b999d32c",
   "metadata": {},
   "source": [
    "<b> Analysis of weekday with respect to Count</b>"
   ]
  },
  {
   "cell_type": "code",
   "execution_count": 31,
   "id": "0acca8f5-1162-4a75-a0de-f87ae254336d",
   "metadata": {},
   "outputs": [
    {
     "data": {
      "text/plain": [
       "<Axes: xlabel='weekday', ylabel='cnt'>"
      ]
     },
     "execution_count": 31,
     "metadata": {},
     "output_type": "execute_result"
    },
    {
     "data": {
      "image/png": "[encoded data removed]",
      "text/plain": [
       "<Figure size 640x480 with 1 Axes>"
      ]
     },
     "metadata": {},
     "output_type": "display_data"
    }
   ],
   "source": [
    "sns.barplot(x='weekday', y='cnt', data=bike_sharing_df)"
   ]
  },
  {
   "cell_type": "markdown",
   "id": "7b0cb517-5fce-49cd-b2b6-8d33751bda50",
   "metadata": {},
   "source": [
    "<b>Less no of counts on Sunday</b>"
   ]
  },
  {
   "cell_type": "markdown",
   "id": "ce5c5cb6-3be7-45f4-aef6-e77f817d89ea",
   "metadata": {},
   "source": [
    "<b> Analysis of weekday with respect to Count and year</b>"
   ]
  },
  {
   "cell_type": "code",
   "execution_count": 32,
   "id": "b592cdfa-22f5-44ab-ab96-a9ba17818b8c",
   "metadata": {},
   "outputs": [
    {
     "data": {
      "text/plain": [
       "<Axes: xlabel='weekday', ylabel='cnt'>"
      ]
     },
     "execution_count": 32,
     "metadata": {},
     "output_type": "execute_result"
    },
    {
     "data": {
      "image/png": "[encoded data removed]",
      "text/plain": [
       "<Figure size 1000x800 with 1 Axes>"
      ]
     },
     "metadata": {},
     "output_type": "display_data"
    }
   ],
   "source": [
    "plt.figure(figsize=(10,8))\n",
    "sns.barplot(x='weekday', y='cnt', data=bike_sharing_df,hue='yr')"
   ]
  },
  {
   "cell_type": "markdown",
   "id": "0422f141-8413-4089-a1da-35fbfe2e31f2",
   "metadata": {},
   "source": [
    "<b>Count increased on 2019 as compared to 2018 for all weekdays</b>"
   ]
  },
  {
   "cell_type": "markdown",
   "id": "73027800-3227-48c0-95dd-3a3ca7c0d67b",
   "metadata": {},
   "source": [
    "<b>Observations</b>\n",
    "- Less no of counts on Sunday\n",
    "- Count increased on 2019 as compared to 2018 for all weekdays"
   ]
  },
  {
   "cell_type": "markdown",
   "id": "31d8b7e2-92ca-4a4f-9e79-4a5b2ba651d7",
   "metadata": {},
   "source": [
    "#### Multivariate Analysis for Numeric columns ####"
   ]
  },
  {
   "cell_type": "code",
   "execution_count": 33,
   "id": "ae09ee9d-d4db-45b4-9421-23c507530564",
   "metadata": {},
   "outputs": [
    {
     "data": {
      "image/png": "[encoded data removed]",
      "text/plain": [
       "<Figure size 2500x1000 with 2 Axes>"
      ]
     },
     "metadata": {},
     "output_type": "display_data"
    }
   ],
   "source": [
    "# Correlation matrix for finding correlation between variables\n",
    "plt.figure(figsize=(25,10))\n",
    "sns.heatmap(bike_sharing_df.select_dtypes(include=[np.number]).corr(), cmap='BuGn', annot = True)\n",
    "plt.show()"
   ]
  },
  {
   "cell_type": "markdown",
   "id": "4dcc7240-3483-4b40-9815-f3a88da1b451",
   "metadata": {},
   "source": [
    "<b>Observations</b>\n",
    "- We can infer from heat map that casual and registered are highly correlated wth cnt. Count is sum of Registered and Casual\n",
    "- Holiday, Hum, Windspeed are negatively correlated with cnt\n",
    "- Independant variable temp and atemp are highly correlated. One of them can be removed"
   ]
  },
  {
   "cell_type": "markdown",
   "id": "4279b2eb-af62-4dea-b054-b78fe5bf51ea",
   "metadata": {},
   "source": [
    "#### Dropping Casual and Registered columns #### "
   ]
  },
  {
   "cell_type": "code",
   "execution_count": 34,
   "id": "b0712806-0299-4fc6-9e28-45ec1a0c999c",
   "metadata": {},
   "outputs": [],
   "source": [
    "bike_sharing_df.drop(['casual','registered'], axis=1, inplace=True)"
   ]
  },
  {
   "cell_type": "markdown",
   "id": "cbd54194-32de-4b37-a913-b700fb479a19",
   "metadata": {},
   "source": [
    "#### Shape of dataframe after dropping casual and registered columns ####"
   ]
  },
  {
   "cell_type": "code",
   "execution_count": 35,
   "id": "f54f993c-a320-4a82-b7d7-3c5a4c1f4010",
   "metadata": {},
   "outputs": [
    {
     "data": {
      "text/plain": [
       "(730, 12)"
      ]
     },
     "execution_count": 35,
     "metadata": {},
     "output_type": "execute_result"
    }
   ],
   "source": [
    "bike_sharing_df.shape"
   ]
  },
  {
   "cell_type": "markdown",
   "id": "fdb5ce26-0a29-44c1-b85b-e10509caabaa",
   "metadata": {},
   "source": [
    "#### Need to create dummy variable for categorical columns ####"
   ]
  },
  {
   "cell_type": "code",
   "execution_count": 36,
   "id": "bd081752-4498-403b-b50b-865b20ebb5c9",
   "metadata": {},
   "outputs": [],
   "source": [
    "bike_sharing_df = pd.get_dummies(bike_sharing_df, drop_first= True)"
   ]
  },
  {
   "cell_type": "code",
   "execution_count": 37,
   "id": "90b81160-69f8-444a-9c92-d82c77752155",
   "metadata": {},
   "outputs": [
    {
     "data": {
      "text/html": [
       "<div>\n",
       "<style scoped>\n",
       "    .dataframe tbody tr th:only-of-type {\n",
       "        vertical-align: middle;\n",
       "    }\n",
       "\n",
       "    .dataframe tbody tr th {\n",
       "        vertical-align: top;\n",
       "    }\n",
       "\n",
       "    .dataframe thead th {\n",
       "        text-align: right;\n",
       "    }\n",
       "</style>\n",
       "<table border=\"1\" class=\"dataframe\">\n",
       "  <thead>\n",
       "    <tr style=\"text-align: right;\">\n",
       "      <th></th>\n",
       "      <th>yr</th>\n",
       "      <th>holiday</th>\n",
       "      <th>workingday</th>\n",
       "      <th>temp</th>\n",
       "      <th>atemp</th>\n",
       "      <th>hum</th>\n",
       "      <th>windspeed</th>\n",
       "      <th>cnt</th>\n",
       "      <th>season_spring</th>\n",
       "      <th>season_summer</th>\n",
       "      <th>...</th>\n",
       "      <th>mnth_October</th>\n",
       "      <th>mnth_September</th>\n",
       "      <th>weekday_Monday</th>\n",
       "      <th>weekday_Saturday</th>\n",
       "      <th>weekday_Sunday</th>\n",
       "      <th>weekday_Thursday</th>\n",
       "      <th>weekday_Tuesday</th>\n",
       "      <th>weekday_Wednesday</th>\n",
       "      <th>weathersit_Light Mist</th>\n",
       "      <th>weathersit_Mist</th>\n",
       "    </tr>\n",
       "  </thead>\n",
       "  <tbody>\n",
       "    <tr>\n",
       "      <th>0</th>\n",
       "      <td>0</td>\n",
       "      <td>0</td>\n",
       "      <td>0</td>\n",
       "      <td>14.110847</td>\n",
       "      <td>18.18125</td>\n",
       "      <td>80.5833</td>\n",
       "      <td>10.749882</td>\n",
       "      <td>985</td>\n",
       "      <td>True</td>\n",
       "      <td>False</td>\n",
       "      <td>...</td>\n",
       "      <td>False</td>\n",
       "      <td>False</td>\n",
       "      <td>False</td>\n",
       "      <td>True</td>\n",
       "      <td>False</td>\n",
       "      <td>False</td>\n",
       "      <td>False</td>\n",
       "      <td>False</td>\n",
       "      <td>False</td>\n",
       "      <td>True</td>\n",
       "    </tr>\n",
       "    <tr>\n",
       "      <th>1</th>\n",
       "      <td>0</td>\n",
       "      <td>0</td>\n",
       "      <td>0</td>\n",
       "      <td>14.902598</td>\n",
       "      <td>17.68695</td>\n",
       "      <td>69.6087</td>\n",
       "      <td>16.652113</td>\n",
       "      <td>801</td>\n",
       "      <td>True</td>\n",
       "      <td>False</td>\n",
       "      <td>...</td>\n",
       "      <td>False</td>\n",
       "      <td>False</td>\n",
       "      <td>False</td>\n",
       "      <td>False</td>\n",
       "      <td>True</td>\n",
       "      <td>False</td>\n",
       "      <td>False</td>\n",
       "      <td>False</td>\n",
       "      <td>False</td>\n",
       "      <td>True</td>\n",
       "    </tr>\n",
       "    <tr>\n",
       "      <th>2</th>\n",
       "      <td>0</td>\n",
       "      <td>0</td>\n",
       "      <td>1</td>\n",
       "      <td>8.050924</td>\n",
       "      <td>9.47025</td>\n",
       "      <td>43.7273</td>\n",
       "      <td>16.636703</td>\n",
       "      <td>1349</td>\n",
       "      <td>True</td>\n",
       "      <td>False</td>\n",
       "      <td>...</td>\n",
       "      <td>False</td>\n",
       "      <td>False</td>\n",
       "      <td>True</td>\n",
       "      <td>False</td>\n",
       "      <td>False</td>\n",
       "      <td>False</td>\n",
       "      <td>False</td>\n",
       "      <td>False</td>\n",
       "      <td>False</td>\n",
       "      <td>False</td>\n",
       "    </tr>\n",
       "    <tr>\n",
       "      <th>3</th>\n",
       "      <td>0</td>\n",
       "      <td>0</td>\n",
       "      <td>1</td>\n",
       "      <td>8.200000</td>\n",
       "      <td>10.60610</td>\n",
       "      <td>59.0435</td>\n",
       "      <td>10.739832</td>\n",
       "      <td>1562</td>\n",
       "      <td>True</td>\n",
       "      <td>False</td>\n",
       "      <td>...</td>\n",
       "      <td>False</td>\n",
       "      <td>False</td>\n",
       "      <td>False</td>\n",
       "      <td>False</td>\n",
       "      <td>False</td>\n",
       "      <td>False</td>\n",
       "      <td>True</td>\n",
       "      <td>False</td>\n",
       "      <td>False</td>\n",
       "      <td>False</td>\n",
       "    </tr>\n",
       "    <tr>\n",
       "      <th>4</th>\n",
       "      <td>0</td>\n",
       "      <td>0</td>\n",
       "      <td>1</td>\n",
       "      <td>9.305237</td>\n",
       "      <td>11.46350</td>\n",
       "      <td>43.6957</td>\n",
       "      <td>12.522300</td>\n",
       "      <td>1600</td>\n",
       "      <td>True</td>\n",
       "      <td>False</td>\n",
       "      <td>...</td>\n",
       "      <td>False</td>\n",
       "      <td>False</td>\n",
       "      <td>False</td>\n",
       "      <td>False</td>\n",
       "      <td>False</td>\n",
       "      <td>False</td>\n",
       "      <td>False</td>\n",
       "      <td>True</td>\n",
       "      <td>False</td>\n",
       "      <td>False</td>\n",
       "    </tr>\n",
       "  </tbody>\n",
       "</table>\n",
       "<p>5 rows × 30 columns</p>\n",
       "</div>"
      ],
      "text/plain": [
       "   yr  holiday  workingday       temp     atemp      hum  windspeed   cnt  \\\n",
       "0   0        0           0  14.110847  18.18125  80.5833  10.749882   985   \n",
       "1   0        0           0  14.902598  17.68695  69.6087  16.652113   801   \n",
       "2   0        0           1   8.050924   9.47025  43.7273  16.636703  1349   \n",
       "3   0        0           1   8.200000  10.60610  59.0435  10.739832  1562   \n",
       "4   0        0           1   9.305237  11.46350  43.6957  12.522300  1600   \n",
       "\n",
       "   season_spring  season_summer  ...  mnth_October  mnth_September  \\\n",
       "0           True          False  ...         False           False   \n",
       "1           True          False  ...         False           False   \n",
       "2           True          False  ...         False           False   \n",
       "3           True          False  ...         False           False   \n",
       "4           True          False  ...         False           False   \n",
       "\n",
       "   weekday_Monday  weekday_Saturday  weekday_Sunday  weekday_Thursday  \\\n",
       "0           False              True           False             False   \n",
       "1           False             False            True             False   \n",
       "2            True             False           False             False   \n",
       "3           False             False           False             False   \n",
       "4           False             False           False             False   \n",
       "\n",
       "   weekday_Tuesday  weekday_Wednesday  weathersit_Light Mist  weathersit_Mist  \n",
       "0            False              False                  False             True  \n",
       "1            False              False                  False             True  \n",
       "2            False              False                  False            False  \n",
       "3             True              False                  False            False  \n",
       "4            False               True                  False            False  \n",
       "\n",
       "[5 rows x 30 columns]"
      ]
     },
     "execution_count": 37,
     "metadata": {},
     "output_type": "execute_result"
    }
   ],
   "source": [
    "bike_sharing_df.head()"
   ]
  },
  {
   "cell_type": "markdown",
   "id": "fd3e0283-d425-43cb-9ee0-c0a1ade4158b",
   "metadata": {},
   "source": [
    "#### Shape of Dataset after adding dummy variables ####"
   ]
  },
  {
   "cell_type": "code",
   "execution_count": 38,
   "id": "6eef7bfe-ed30-494d-a4dc-a86a11eb2f95",
   "metadata": {},
   "outputs": [
    {
     "data": {
      "text/plain": [
       "(730, 30)"
      ]
     },
     "execution_count": 38,
     "metadata": {},
     "output_type": "execute_result"
    }
   ],
   "source": [
    "bike_sharing_df.shape"
   ]
  },
  {
   "cell_type": "code",
   "execution_count": 39,
   "id": "b8c1509c-d1c0-4e24-84a4-2d173cf75a74",
   "metadata": {},
   "outputs": [
    {
     "name": "stdout",
     "output_type": "stream",
     "text": [
      "<class 'pandas.core.frame.DataFrame'>\n",
      "RangeIndex: 730 entries, 0 to 729\n",
      "Data columns (total 30 columns):\n",
      " #   Column                 Non-Null Count  Dtype  \n",
      "---  ------                 --------------  -----  \n",
      " 0   yr                     730 non-null    int64  \n",
      " 1   holiday                730 non-null    int64  \n",
      " 2   workingday             730 non-null    int64  \n",
      " 3   temp                   730 non-null    float64\n",
      " 4   atemp                  730 non-null    float64\n",
      " 5   hum                    730 non-null    float64\n",
      " 6   windspeed              730 non-null    float64\n",
      " 7   cnt                    730 non-null    int64  \n",
      " 8   season_spring          730 non-null    bool   \n",
      " 9   season_summer          730 non-null    bool   \n",
      " 10  season_winter          730 non-null    bool   \n",
      " 11  mnth_August            730 non-null    bool   \n",
      " 12  mnth_December          730 non-null    bool   \n",
      " 13  mnth_Feb               730 non-null    bool   \n",
      " 14  mnth_Jan               730 non-null    bool   \n",
      " 15  mnth_July              730 non-null    bool   \n",
      " 16  mnth_June              730 non-null    bool   \n",
      " 17  mnth_March             730 non-null    bool   \n",
      " 18  mnth_May               730 non-null    bool   \n",
      " 19  mnth_November          730 non-null    bool   \n",
      " 20  mnth_October           730 non-null    bool   \n",
      " 21  mnth_September         730 non-null    bool   \n",
      " 22  weekday_Monday         730 non-null    bool   \n",
      " 23  weekday_Saturday       730 non-null    bool   \n",
      " 24  weekday_Sunday         730 non-null    bool   \n",
      " 25  weekday_Thursday       730 non-null    bool   \n",
      " 26  weekday_Tuesday        730 non-null    bool   \n",
      " 27  weekday_Wednesday      730 non-null    bool   \n",
      " 28  weathersit_Light Mist  730 non-null    bool   \n",
      " 29  weathersit_Mist        730 non-null    bool   \n",
      "dtypes: bool(22), float64(4), int64(4)\n",
      "memory usage: 61.4 KB\n"
     ]
    }
   ],
   "source": [
    "bike_sharing_df.info()"
   ]
  },
  {
   "cell_type": "markdown",
   "id": "04192f6b-7e43-49c4-9332-5a6df35947c7",
   "metadata": {},
   "source": [
    "bike_sharing_df.describe()"
   ]
  },
  {
   "cell_type": "markdown",
   "id": "5c864d19-81a8-43f8-8d5c-55460c837c25",
   "metadata": {},
   "source": [
    "#### Prepare Train and Test Data ####"
   ]
  },
  {
   "cell_type": "code",
   "execution_count": 40,
   "id": "277d39c4-d3de-416e-a830-47439d32dd0e",
   "metadata": {},
   "outputs": [],
   "source": [
    "np.random.seed(0)\n",
    "bike_sharing_df_train, bike_sharing_df_test  = train_test_split(bike_sharing_df, train_size=0.75, test_size=0.25, random_state=100)"
   ]
  },
  {
   "cell_type": "markdown",
   "id": "e986790b-43da-422f-ba2a-9a0e7749b895",
   "metadata": {},
   "source": [
    "#### Scaling of Numerical Variables ####"
   ]
  },
  {
   "cell_type": "code",
   "execution_count": 41,
   "id": "a7959534-0abd-41af-823d-aa091e1a63dd",
   "metadata": {},
   "outputs": [],
   "source": [
    "## Numerical variables in dataset\n",
    "numerical_vars =  ['temp', 'atemp', 'hum', 'windspeed','cnt']\n",
    "## Initializing MinMaxScaler for scaling numerical variables from 0-1 \n",
    "scaler=MinMaxScaler()\n",
    "\n",
    "bike_sharing_df_train[numerical_vars] = scaler.fit_transform(bike_sharing_df_train[numerical_vars])"
   ]
  },
  {
   "cell_type": "markdown",
   "id": "8a34dde0-928f-4120-b095-c7cb3c975d0a",
   "metadata": {},
   "source": [
    "#### Shape of Train Dataset after Scaling ####"
   ]
  },
  {
   "cell_type": "code",
   "execution_count": 42,
   "id": "152180f2-49a6-4251-b1d4-64f67f4ea113",
   "metadata": {},
   "outputs": [
    {
     "data": {
      "text/plain": [
       "(547, 30)"
      ]
     },
     "execution_count": 42,
     "metadata": {},
     "output_type": "execute_result"
    }
   ],
   "source": [
    "bike_sharing_df_train.shape"
   ]
  },
  {
   "cell_type": "markdown",
   "id": "b5efc94c-bf8b-4d5e-9eb3-6f93ce54fc3d",
   "metadata": {},
   "source": [
    "#### Shape of Train Dataset after Scaling ####"
   ]
  },
  {
   "cell_type": "code",
   "execution_count": 43,
   "id": "66a57ae8-0182-4e94-8121-fb3d5a409446",
   "metadata": {},
   "outputs": [
    {
     "data": {
      "text/plain": [
       "(183, 30)"
      ]
     },
     "execution_count": 43,
     "metadata": {},
     "output_type": "execute_result"
    }
   ],
   "source": [
    "bike_sharing_df_test.shape"
   ]
  },
  {
   "cell_type": "markdown",
   "id": "1396a1fe-4e5b-4631-b805-6aebcd39fcc7",
   "metadata": {},
   "source": [
    "#### Train Dataset ####"
   ]
  },
  {
   "cell_type": "code",
   "execution_count": 44,
   "id": "2f5b2767-769c-4309-9f31-aa4b6eef2f08",
   "metadata": {},
   "outputs": [
    {
     "data": {
      "text/html": [
       "<div>\n",
       "<style scoped>\n",
       "    .dataframe tbody tr th:only-of-type {\n",
       "        vertical-align: middle;\n",
       "    }\n",
       "\n",
       "    .dataframe tbody tr th {\n",
       "        vertical-align: top;\n",
       "    }\n",
       "\n",
       "    .dataframe thead th {\n",
       "        text-align: right;\n",
       "    }\n",
       "</style>\n",
       "<table border=\"1\" class=\"dataframe\">\n",
       "  <thead>\n",
       "    <tr style=\"text-align: right;\">\n",
       "      <th></th>\n",
       "      <th>yr</th>\n",
       "      <th>holiday</th>\n",
       "      <th>workingday</th>\n",
       "      <th>temp</th>\n",
       "      <th>atemp</th>\n",
       "      <th>hum</th>\n",
       "      <th>windspeed</th>\n",
       "      <th>cnt</th>\n",
       "      <th>season_spring</th>\n",
       "      <th>season_summer</th>\n",
       "      <th>...</th>\n",
       "      <th>mnth_October</th>\n",
       "      <th>mnth_September</th>\n",
       "      <th>weekday_Monday</th>\n",
       "      <th>weekday_Saturday</th>\n",
       "      <th>weekday_Sunday</th>\n",
       "      <th>weekday_Thursday</th>\n",
       "      <th>weekday_Tuesday</th>\n",
       "      <th>weekday_Wednesday</th>\n",
       "      <th>weathersit_Light Mist</th>\n",
       "      <th>weathersit_Mist</th>\n",
       "    </tr>\n",
       "  </thead>\n",
       "  <tbody>\n",
       "    <tr>\n",
       "      <th>311</th>\n",
       "      <td>0</td>\n",
       "      <td>0</td>\n",
       "      <td>1</td>\n",
       "      <td>0.435124</td>\n",
       "      <td>0.437339</td>\n",
       "      <td>0.743667</td>\n",
       "      <td>0.057471</td>\n",
       "      <td>0.481247</td>\n",
       "      <td>False</td>\n",
       "      <td>False</td>\n",
       "      <td>...</td>\n",
       "      <td>False</td>\n",
       "      <td>False</td>\n",
       "      <td>False</td>\n",
       "      <td>False</td>\n",
       "      <td>False</td>\n",
       "      <td>False</td>\n",
       "      <td>True</td>\n",
       "      <td>False</td>\n",
       "      <td>False</td>\n",
       "      <td>False</td>\n",
       "    </tr>\n",
       "    <tr>\n",
       "      <th>523</th>\n",
       "      <td>1</td>\n",
       "      <td>0</td>\n",
       "      <td>1</td>\n",
       "      <td>0.735215</td>\n",
       "      <td>0.680985</td>\n",
       "      <td>0.482181</td>\n",
       "      <td>0.286093</td>\n",
       "      <td>0.887483</td>\n",
       "      <td>False</td>\n",
       "      <td>True</td>\n",
       "      <td>...</td>\n",
       "      <td>False</td>\n",
       "      <td>False</td>\n",
       "      <td>False</td>\n",
       "      <td>False</td>\n",
       "      <td>False</td>\n",
       "      <td>False</td>\n",
       "      <td>False</td>\n",
       "      <td>False</td>\n",
       "      <td>False</td>\n",
       "      <td>False</td>\n",
       "    </tr>\n",
       "    <tr>\n",
       "      <th>381</th>\n",
       "      <td>1</td>\n",
       "      <td>0</td>\n",
       "      <td>1</td>\n",
       "      <td>0.391151</td>\n",
       "      <td>0.374375</td>\n",
       "      <td>0.737917</td>\n",
       "      <td>0.659615</td>\n",
       "      <td>0.335136</td>\n",
       "      <td>True</td>\n",
       "      <td>False</td>\n",
       "      <td>...</td>\n",
       "      <td>False</td>\n",
       "      <td>False</td>\n",
       "      <td>False</td>\n",
       "      <td>False</td>\n",
       "      <td>False</td>\n",
       "      <td>False</td>\n",
       "      <td>True</td>\n",
       "      <td>False</td>\n",
       "      <td>False</td>\n",
       "      <td>True</td>\n",
       "    </tr>\n",
       "    <tr>\n",
       "      <th>413</th>\n",
       "      <td>1</td>\n",
       "      <td>0</td>\n",
       "      <td>0</td>\n",
       "      <td>0.358285</td>\n",
       "      <td>0.362754</td>\n",
       "      <td>0.550880</td>\n",
       "      <td>0.319514</td>\n",
       "      <td>0.494248</td>\n",
       "      <td>True</td>\n",
       "      <td>False</td>\n",
       "      <td>...</td>\n",
       "      <td>False</td>\n",
       "      <td>False</td>\n",
       "      <td>False</td>\n",
       "      <td>True</td>\n",
       "      <td>False</td>\n",
       "      <td>False</td>\n",
       "      <td>False</td>\n",
       "      <td>False</td>\n",
       "      <td>False</td>\n",
       "      <td>False</td>\n",
       "    </tr>\n",
       "    <tr>\n",
       "      <th>253</th>\n",
       "      <td>0</td>\n",
       "      <td>0</td>\n",
       "      <td>0</td>\n",
       "      <td>0.740406</td>\n",
       "      <td>0.695906</td>\n",
       "      <td>0.735509</td>\n",
       "      <td>0.156398</td>\n",
       "      <td>0.578003</td>\n",
       "      <td>False</td>\n",
       "      <td>False</td>\n",
       "      <td>...</td>\n",
       "      <td>False</td>\n",
       "      <td>True</td>\n",
       "      <td>False</td>\n",
       "      <td>False</td>\n",
       "      <td>True</td>\n",
       "      <td>False</td>\n",
       "      <td>False</td>\n",
       "      <td>False</td>\n",
       "      <td>False</td>\n",
       "      <td>False</td>\n",
       "    </tr>\n",
       "  </tbody>\n",
       "</table>\n",
       "<p>5 rows × 30 columns</p>\n",
       "</div>"
      ],
      "text/plain": [
       "     yr  holiday  workingday      temp     atemp       hum  windspeed  \\\n",
       "311   0        0           1  0.435124  0.437339  0.743667   0.057471   \n",
       "523   1        0           1  0.735215  0.680985  0.482181   0.286093   \n",
       "381   1        0           1  0.391151  0.374375  0.737917   0.659615   \n",
       "413   1        0           0  0.358285  0.362754  0.550880   0.319514   \n",
       "253   0        0           0  0.740406  0.695906  0.735509   0.156398   \n",
       "\n",
       "          cnt  season_spring  season_summer  ...  mnth_October  \\\n",
       "311  0.481247          False          False  ...         False   \n",
       "523  0.887483          False           True  ...         False   \n",
       "381  0.335136           True          False  ...         False   \n",
       "413  0.494248           True          False  ...         False   \n",
       "253  0.578003          False          False  ...         False   \n",
       "\n",
       "     mnth_September  weekday_Monday  weekday_Saturday  weekday_Sunday  \\\n",
       "311           False           False             False           False   \n",
       "523           False           False             False           False   \n",
       "381           False           False             False           False   \n",
       "413           False           False              True           False   \n",
       "253            True           False             False            True   \n",
       "\n",
       "     weekday_Thursday  weekday_Tuesday  weekday_Wednesday  \\\n",
       "311             False             True              False   \n",
       "523             False            False              False   \n",
       "381             False             True              False   \n",
       "413             False            False              False   \n",
       "253             False            False              False   \n",
       "\n",
       "     weathersit_Light Mist  weathersit_Mist  \n",
       "311                  False            False  \n",
       "523                  False            False  \n",
       "381                  False             True  \n",
       "413                  False            False  \n",
       "253                  False            False  \n",
       "\n",
       "[5 rows x 30 columns]"
      ]
     },
     "execution_count": 44,
     "metadata": {},
     "output_type": "execute_result"
    }
   ],
   "source": [
    "bike_sharing_df_train.head()"
   ]
  },
  {
   "cell_type": "markdown",
   "id": "b3697379-9e40-436e-9ebe-37fef3c88fb9",
   "metadata": {},
   "source": [
    "#### Pop cnt variable from Train dataset as it is target variable ####"
   ]
  },
  {
   "cell_type": "code",
   "execution_count": 45,
   "id": "91d38243-0e23-4b90-aec9-dfe7a859e9ac",
   "metadata": {},
   "outputs": [],
   "source": [
    "y_bike_sharing_df_train = bike_sharing_df_train.pop('cnt')\n",
    "x_bike_sharing_df_train = bike_sharing_df_train"
   ]
  },
  {
   "cell_type": "markdown",
   "id": "caabddfb-60af-45ee-9d04-10830cd4686f",
   "metadata": {},
   "source": [
    "-----  <b>Data Preparation and Analysis is completed</b> -----"
   ]
  },
  {
   "cell_type": "markdown",
   "id": "8a31d4e7-34e6-49b1-aac0-d70a7e6ae5a9",
   "metadata": {},
   "source": [
    "### Building/Training a Model ###"
   ]
  },
  {
   "cell_type": "markdown",
   "id": "5edb39ac-e75c-4338-a2f8-ad8c38070574",
   "metadata": {},
   "source": [
    "#### Use StatsModel to build a model ####"
   ]
  },
  {
   "cell_type": "code",
   "execution_count": 46,
   "id": "2c9fd9a8-5260-4276-b182-c9d83590d77c",
   "metadata": {},
   "outputs": [
    {
     "data": {
      "text/plain": [
       "const                    0.236250\n",
       "yr                       0.230799\n",
       "holiday                 -0.001091\n",
       "workingday               0.100289\n",
       "temp                     0.391615\n",
       "atemp                    0.054732\n",
       "hum                     -0.146786\n",
       "windspeed               -0.177329\n",
       "season_spring           -0.051909\n",
       "season_summer            0.044084\n",
       "season_winter            0.114196\n",
       "mnth_August              0.023972\n",
       "mnth_December           -0.050054\n",
       "mnth_Feb                -0.027709\n",
       "mnth_Jan                -0.055422\n",
       "mnth_July               -0.030713\n",
       "mnth_June                0.013485\n",
       "mnth_March               0.005259\n",
       "mnth_May                 0.021377\n",
       "mnth_November           -0.043688\n",
       "mnth_October             0.009619\n",
       "mnth_September           0.086487\n",
       "weekday_Monday          -0.023312\n",
       "weekday_Saturday         0.095602\n",
       "weekday_Sunday           0.041450\n",
       "weekday_Thursday        -0.010611\n",
       "weekday_Tuesday         -0.021888\n",
       "weekday_Wednesday       -0.008645\n",
       "weathersit_Light Mist   -0.259461\n",
       "weathersit_Mist         -0.059812\n",
       "dtype: float64"
      ]
     },
     "execution_count": 46,
     "metadata": {},
     "output_type": "execute_result"
    }
   ],
   "source": [
    "## Build a model with all features using statsmodel\n",
    "import statsmodels.api as sm\n",
    "x_bike_sharing_df_train_lm = sm.add_constant(x_bike_sharing_df_train)\n",
    "\n",
    "lr = sm.OLS(y_bike_sharing_df_train, x_bike_sharing_df_train_lm.astype(float)).fit()\n",
    "lr.params"
   ]
  },
  {
   "cell_type": "code",
   "execution_count": 47,
   "id": "e2faf0ed-e9d6-48b8-84e8-0401cd09c089",
   "metadata": {},
   "outputs": [
    {
     "data": {
      "text/html": [
       "<table class=\"simpletable\">\n",
       "<caption>OLS Regression Results</caption>\n",
       "<tr>\n",
       "  <th>Dep. Variable:</th>           <td>cnt</td>       <th>  R-squared:         </th> <td>   0.856</td> \n",
       "</tr>\n",
       "<tr>\n",
       "  <th>Model:</th>                   <td>OLS</td>       <th>  Adj. R-squared:    </th> <td>   0.848</td> \n",
       "</tr>\n",
       "<tr>\n",
       "  <th>Method:</th>             <td>Least Squares</td>  <th>  F-statistic:       </th> <td>   110.2</td> \n",
       "</tr>\n",
       "<tr>\n",
       "  <th>Date:</th>             <td>Mon, 24 Feb 2025</td> <th>  Prob (F-statistic):</th> <td>4.86e-198</td>\n",
       "</tr>\n",
       "<tr>\n",
       "  <th>Time:</th>                 <td>16:11:27</td>     <th>  Log-Likelihood:    </th> <td>  570.73</td> \n",
       "</tr>\n",
       "<tr>\n",
       "  <th>No. Observations:</th>      <td>   547</td>      <th>  AIC:               </th> <td>  -1083.</td> \n",
       "</tr>\n",
       "<tr>\n",
       "  <th>Df Residuals:</th>          <td>   518</td>      <th>  BIC:               </th> <td>  -958.6</td> \n",
       "</tr>\n",
       "<tr>\n",
       "  <th>Df Model:</th>              <td>    28</td>      <th>                     </th>     <td> </td>    \n",
       "</tr>\n",
       "<tr>\n",
       "  <th>Covariance Type:</th>      <td>nonrobust</td>    <th>                     </th>     <td> </td>    \n",
       "</tr>\n",
       "</table>\n",
       "<table class=\"simpletable\">\n",
       "<tr>\n",
       "            <td></td>               <th>coef</th>     <th>std err</th>      <th>t</th>      <th>P>|t|</th>  <th>[0.025</th>    <th>0.975]</th>  \n",
       "</tr>\n",
       "<tr>\n",
       "  <th>const</th>                 <td>    0.2363</td> <td>    0.034</td> <td>    6.936</td> <td> 0.000</td> <td>    0.169</td> <td>    0.303</td>\n",
       "</tr>\n",
       "<tr>\n",
       "  <th>yr</th>                    <td>    0.2308</td> <td>    0.008</td> <td>   30.023</td> <td> 0.000</td> <td>    0.216</td> <td>    0.246</td>\n",
       "</tr>\n",
       "<tr>\n",
       "  <th>holiday</th>               <td>   -0.0011</td> <td>    0.022</td> <td>   -0.049</td> <td> 0.961</td> <td>   -0.045</td> <td>    0.043</td>\n",
       "</tr>\n",
       "<tr>\n",
       "  <th>workingday</th>            <td>    0.1003</td> <td>    0.012</td> <td>    8.552</td> <td> 0.000</td> <td>    0.077</td> <td>    0.123</td>\n",
       "</tr>\n",
       "<tr>\n",
       "  <th>temp</th>                  <td>    0.3916</td> <td>    0.138</td> <td>    2.838</td> <td> 0.005</td> <td>    0.121</td> <td>    0.663</td>\n",
       "</tr>\n",
       "<tr>\n",
       "  <th>atemp</th>                 <td>    0.0547</td> <td>    0.136</td> <td>    0.404</td> <td> 0.686</td> <td>   -0.211</td> <td>    0.321</td>\n",
       "</tr>\n",
       "<tr>\n",
       "  <th>hum</th>                   <td>   -0.1468</td> <td>    0.037</td> <td>   -3.934</td> <td> 0.000</td> <td>   -0.220</td> <td>   -0.073</td>\n",
       "</tr>\n",
       "<tr>\n",
       "  <th>windspeed</th>             <td>   -0.1773</td> <td>    0.025</td> <td>   -7.069</td> <td> 0.000</td> <td>   -0.227</td> <td>   -0.128</td>\n",
       "</tr>\n",
       "<tr>\n",
       "  <th>season_spring</th>         <td>   -0.0519</td> <td>    0.028</td> <td>   -1.828</td> <td> 0.068</td> <td>   -0.108</td> <td>    0.004</td>\n",
       "</tr>\n",
       "<tr>\n",
       "  <th>season_summer</th>         <td>    0.0441</td> <td>    0.025</td> <td>    1.761</td> <td> 0.079</td> <td>   -0.005</td> <td>    0.093</td>\n",
       "</tr>\n",
       "<tr>\n",
       "  <th>season_winter</th>         <td>    0.1142</td> <td>    0.026</td> <td>    4.341</td> <td> 0.000</td> <td>    0.063</td> <td>    0.166</td>\n",
       "</tr>\n",
       "<tr>\n",
       "  <th>mnth_August</th>           <td>    0.0240</td> <td>    0.032</td> <td>    0.739</td> <td> 0.461</td> <td>   -0.040</td> <td>    0.088</td>\n",
       "</tr>\n",
       "<tr>\n",
       "  <th>mnth_December</th>         <td>   -0.0501</td> <td>    0.032</td> <td>   -1.570</td> <td> 0.117</td> <td>   -0.113</td> <td>    0.013</td>\n",
       "</tr>\n",
       "<tr>\n",
       "  <th>mnth_Feb</th>              <td>   -0.0277</td> <td>    0.031</td> <td>   -0.884</td> <td> 0.377</td> <td>   -0.089</td> <td>    0.034</td>\n",
       "</tr>\n",
       "<tr>\n",
       "  <th>mnth_Jan</th>              <td>   -0.0554</td> <td>    0.032</td> <td>   -1.720</td> <td> 0.086</td> <td>   -0.119</td> <td>    0.008</td>\n",
       "</tr>\n",
       "<tr>\n",
       "  <th>mnth_July</th>             <td>   -0.0307</td> <td>    0.034</td> <td>   -0.911</td> <td> 0.363</td> <td>   -0.097</td> <td>    0.036</td>\n",
       "</tr>\n",
       "<tr>\n",
       "  <th>mnth_June</th>             <td>    0.0135</td> <td>    0.024</td> <td>    0.573</td> <td> 0.567</td> <td>   -0.033</td> <td>    0.060</td>\n",
       "</tr>\n",
       "<tr>\n",
       "  <th>mnth_March</th>            <td>    0.0053</td> <td>    0.024</td> <td>    0.218</td> <td> 0.827</td> <td>   -0.042</td> <td>    0.053</td>\n",
       "</tr>\n",
       "<tr>\n",
       "  <th>mnth_May</th>              <td>    0.0214</td> <td>    0.020</td> <td>    1.048</td> <td> 0.295</td> <td>   -0.019</td> <td>    0.061</td>\n",
       "</tr>\n",
       "<tr>\n",
       "  <th>mnth_November</th>         <td>   -0.0437</td> <td>    0.035</td> <td>   -1.256</td> <td> 0.210</td> <td>   -0.112</td> <td>    0.025</td>\n",
       "</tr>\n",
       "<tr>\n",
       "  <th>mnth_October</th>          <td>    0.0096</td> <td>    0.034</td> <td>    0.283</td> <td> 0.777</td> <td>   -0.057</td> <td>    0.076</td>\n",
       "</tr>\n",
       "<tr>\n",
       "  <th>mnth_September</th>        <td>    0.0865</td> <td>    0.031</td> <td>    2.821</td> <td> 0.005</td> <td>    0.026</td> <td>    0.147</td>\n",
       "</tr>\n",
       "<tr>\n",
       "  <th>weekday_Monday</th>        <td>   -0.0233</td> <td>    0.015</td> <td>   -1.582</td> <td> 0.114</td> <td>   -0.052</td> <td>    0.006</td>\n",
       "</tr>\n",
       "<tr>\n",
       "  <th>weekday_Saturday</th>      <td>    0.0956</td> <td>    0.013</td> <td>    7.272</td> <td> 0.000</td> <td>    0.070</td> <td>    0.121</td>\n",
       "</tr>\n",
       "<tr>\n",
       "  <th>weekday_Sunday</th>        <td>    0.0415</td> <td>    0.013</td> <td>    3.147</td> <td> 0.002</td> <td>    0.016</td> <td>    0.067</td>\n",
       "</tr>\n",
       "<tr>\n",
       "  <th>weekday_Thursday</th>      <td>   -0.0106</td> <td>    0.015</td> <td>   -0.707</td> <td> 0.480</td> <td>   -0.040</td> <td>    0.019</td>\n",
       "</tr>\n",
       "<tr>\n",
       "  <th>weekday_Tuesday</th>       <td>   -0.0219</td> <td>    0.015</td> <td>   -1.474</td> <td> 0.141</td> <td>   -0.051</td> <td>    0.007</td>\n",
       "</tr>\n",
       "<tr>\n",
       "  <th>weekday_Wednesday</th>     <td>   -0.0086</td> <td>    0.015</td> <td>   -0.596</td> <td> 0.551</td> <td>   -0.037</td> <td>    0.020</td>\n",
       "</tr>\n",
       "<tr>\n",
       "  <th>weathersit_Light Mist</th> <td>   -0.2595</td> <td>    0.026</td> <td>   -9.971</td> <td> 0.000</td> <td>   -0.311</td> <td>   -0.208</td>\n",
       "</tr>\n",
       "<tr>\n",
       "  <th>weathersit_Mist</th>       <td>   -0.0598</td> <td>    0.010</td> <td>   -6.002</td> <td> 0.000</td> <td>   -0.079</td> <td>   -0.040</td>\n",
       "</tr>\n",
       "</table>\n",
       "<table class=\"simpletable\">\n",
       "<tr>\n",
       "  <th>Omnibus:</th>       <td>92.397</td> <th>  Durbin-Watson:     </th> <td>   2.062</td>\n",
       "</tr>\n",
       "<tr>\n",
       "  <th>Prob(Omnibus):</th> <td> 0.000</td> <th>  Jarque-Bera (JB):  </th> <td> 260.688</td>\n",
       "</tr>\n",
       "<tr>\n",
       "  <th>Skew:</th>          <td>-0.821</td> <th>  Prob(JB):          </th> <td>2.47e-57</td>\n",
       "</tr>\n",
       "<tr>\n",
       "  <th>Kurtosis:</th>      <td> 5.957</td> <th>  Cond. No.          </th> <td>6.38e+15</td>\n",
       "</tr>\n",
       "</table><br/><br/>Notes:<br/>[1] Standard Errors assume that the covariance matrix of the errors is correctly specified.<br/>[2] The smallest eigenvalue is 4.55e-29. This might indicate that there are<br/>strong multicollinearity problems or that the design matrix is singular."
      ],
      "text/latex": [
       "\\begin{center}\n",
       "\\begin{tabular}{lclc}\n",
       "\\toprule\n",
       "\\textbf{Dep. Variable:}         &       cnt        & \\textbf{  R-squared:         } &     0.856   \\\\\n",
       "\\textbf{Model:}                 &       OLS        & \\textbf{  Adj. R-squared:    } &     0.848   \\\\\n",
       "\\textbf{Method:}                &  Least Squares   & \\textbf{  F-statistic:       } &     110.2   \\\\\n",
       "\\textbf{Date:}                  & Mon, 24 Feb 2025 & \\textbf{  Prob (F-statistic):} & 4.86e-198   \\\\\n",
       "\\textbf{Time:}                  &     16:11:27     & \\textbf{  Log-Likelihood:    } &    570.73   \\\\\n",
       "\\textbf{No. Observations:}      &         547      & \\textbf{  AIC:               } &    -1083.   \\\\\n",
       "\\textbf{Df Residuals:}          &         518      & \\textbf{  BIC:               } &    -958.6   \\\\\n",
       "\\textbf{Df Model:}              &          28      & \\textbf{                     } &             \\\\\n",
       "\\textbf{Covariance Type:}       &    nonrobust     & \\textbf{                     } &             \\\\\n",
       "\\bottomrule\n",
       "\\end{tabular}\n",
       "\\begin{tabular}{lcccccc}\n",
       "                                & \\textbf{coef} & \\textbf{std err} & \\textbf{t} & \\textbf{P$> |$t$|$} & \\textbf{[0.025} & \\textbf{0.975]}  \\\\\n",
       "\\midrule\n",
       "\\textbf{const}                  &       0.2363  &        0.034     &     6.936  &         0.000        &        0.169    &        0.303     \\\\\n",
       "\\textbf{yr}                     &       0.2308  &        0.008     &    30.023  &         0.000        &        0.216    &        0.246     \\\\\n",
       "\\textbf{holiday}                &      -0.0011  &        0.022     &    -0.049  &         0.961        &       -0.045    &        0.043     \\\\\n",
       "\\textbf{workingday}             &       0.1003  &        0.012     &     8.552  &         0.000        &        0.077    &        0.123     \\\\\n",
       "\\textbf{temp}                   &       0.3916  &        0.138     &     2.838  &         0.005        &        0.121    &        0.663     \\\\\n",
       "\\textbf{atemp}                  &       0.0547  &        0.136     &     0.404  &         0.686        &       -0.211    &        0.321     \\\\\n",
       "\\textbf{hum}                    &      -0.1468  &        0.037     &    -3.934  &         0.000        &       -0.220    &       -0.073     \\\\\n",
       "\\textbf{windspeed}              &      -0.1773  &        0.025     &    -7.069  &         0.000        &       -0.227    &       -0.128     \\\\\n",
       "\\textbf{season\\_spring}         &      -0.0519  &        0.028     &    -1.828  &         0.068        &       -0.108    &        0.004     \\\\\n",
       "\\textbf{season\\_summer}         &       0.0441  &        0.025     &     1.761  &         0.079        &       -0.005    &        0.093     \\\\\n",
       "\\textbf{season\\_winter}         &       0.1142  &        0.026     &     4.341  &         0.000        &        0.063    &        0.166     \\\\\n",
       "\\textbf{mnth\\_August}           &       0.0240  &        0.032     &     0.739  &         0.461        &       -0.040    &        0.088     \\\\\n",
       "\\textbf{mnth\\_December}         &      -0.0501  &        0.032     &    -1.570  &         0.117        &       -0.113    &        0.013     \\\\\n",
       "\\textbf{mnth\\_Feb}              &      -0.0277  &        0.031     &    -0.884  &         0.377        &       -0.089    &        0.034     \\\\\n",
       "\\textbf{mnth\\_Jan}              &      -0.0554  &        0.032     &    -1.720  &         0.086        &       -0.119    &        0.008     \\\\\n",
       "\\textbf{mnth\\_July}             &      -0.0307  &        0.034     &    -0.911  &         0.363        &       -0.097    &        0.036     \\\\\n",
       "\\textbf{mnth\\_June}             &       0.0135  &        0.024     &     0.573  &         0.567        &       -0.033    &        0.060     \\\\\n",
       "\\textbf{mnth\\_March}            &       0.0053  &        0.024     &     0.218  &         0.827        &       -0.042    &        0.053     \\\\\n",
       "\\textbf{mnth\\_May}              &       0.0214  &        0.020     &     1.048  &         0.295        &       -0.019    &        0.061     \\\\\n",
       "\\textbf{mnth\\_November}         &      -0.0437  &        0.035     &    -1.256  &         0.210        &       -0.112    &        0.025     \\\\\n",
       "\\textbf{mnth\\_October}          &       0.0096  &        0.034     &     0.283  &         0.777        &       -0.057    &        0.076     \\\\\n",
       "\\textbf{mnth\\_September}        &       0.0865  &        0.031     &     2.821  &         0.005        &        0.026    &        0.147     \\\\\n",
       "\\textbf{weekday\\_Monday}        &      -0.0233  &        0.015     &    -1.582  &         0.114        &       -0.052    &        0.006     \\\\\n",
       "\\textbf{weekday\\_Saturday}      &       0.0956  &        0.013     &     7.272  &         0.000        &        0.070    &        0.121     \\\\\n",
       "\\textbf{weekday\\_Sunday}        &       0.0415  &        0.013     &     3.147  &         0.002        &        0.016    &        0.067     \\\\\n",
       "\\textbf{weekday\\_Thursday}      &      -0.0106  &        0.015     &    -0.707  &         0.480        &       -0.040    &        0.019     \\\\\n",
       "\\textbf{weekday\\_Tuesday}       &      -0.0219  &        0.015     &    -1.474  &         0.141        &       -0.051    &        0.007     \\\\\n",
       "\\textbf{weekday\\_Wednesday}     &      -0.0086  &        0.015     &    -0.596  &         0.551        &       -0.037    &        0.020     \\\\\n",
       "\\textbf{weathersit\\_Light Mist} &      -0.2595  &        0.026     &    -9.971  &         0.000        &       -0.311    &       -0.208     \\\\\n",
       "\\textbf{weathersit\\_Mist}       &      -0.0598  &        0.010     &    -6.002  &         0.000        &       -0.079    &       -0.040     \\\\\n",
       "\\bottomrule\n",
       "\\end{tabular}\n",
       "\\begin{tabular}{lclc}\n",
       "\\textbf{Omnibus:}       & 92.397 & \\textbf{  Durbin-Watson:     } &    2.062  \\\\\n",
       "\\textbf{Prob(Omnibus):} &  0.000 & \\textbf{  Jarque-Bera (JB):  } &  260.688  \\\\\n",
       "\\textbf{Skew:}          & -0.821 & \\textbf{  Prob(JB):          } & 2.47e-57  \\\\\n",
       "\\textbf{Kurtosis:}      &  5.957 & \\textbf{  Cond. No.          } & 6.38e+15  \\\\\n",
       "\\bottomrule\n",
       "\\end{tabular}\n",
       "%\\caption{OLS Regression Results}\n",
       "\\end{center}\n",
       "\n",
       "Notes: \\newline\n",
       " [1] Standard Errors assume that the covariance matrix of the errors is correctly specified. \\newline\n",
       " [2] The smallest eigenvalue is 4.55e-29. This might indicate that there are \\newline\n",
       " strong multicollinearity problems or that the design matrix is singular."
      ],
      "text/plain": [
       "<class 'statsmodels.iolib.summary.Summary'>\n",
       "\"\"\"\n",
       "                            OLS Regression Results                            \n",
       "==============================================================================\n",
       "Dep. Variable:                    cnt   R-squared:                       0.856\n",
       "Model:                            OLS   Adj. R-squared:                  0.848\n",
       "Method:                 Least Squares   F-statistic:                     110.2\n",
       "Date:                Mon, 24 Feb 2025   Prob (F-statistic):          4.86e-198\n",
       "Time:                        16:11:27   Log-Likelihood:                 570.73\n",
       "No. Observations:                 547   AIC:                            -1083.\n",
       "Df Residuals:                     518   BIC:                            -958.6\n",
       "Df Model:                          28                                         \n",
       "Covariance Type:            nonrobust                                         \n",
       "=========================================================================================\n",
       "                            coef    std err          t      P>|t|      [0.025      0.975]\n",
       "-----------------------------------------------------------------------------------------\n",
       "const                     0.2363      0.034      6.936      0.000       0.169       0.303\n",
       "yr                        0.2308      0.008     30.023      0.000       0.216       0.246\n",
       "holiday                  -0.0011      0.022     -0.049      0.961      -0.045       0.043\n",
       "workingday                0.1003      0.012      8.552      0.000       0.077       0.123\n",
       "temp                      0.3916      0.138      2.838      0.005       0.121       0.663\n",
       "atemp                     0.0547      0.136      0.404      0.686      -0.211       0.321\n",
       "hum                      -0.1468      0.037     -3.934      0.000      -0.220      -0.073\n",
       "windspeed                -0.1773      0.025     -7.069      0.000      -0.227      -0.128\n",
       "season_spring            -0.0519      0.028     -1.828      0.068      -0.108       0.004\n",
       "season_summer             0.0441      0.025      1.761      0.079      -0.005       0.093\n",
       "season_winter             0.1142      0.026      4.341      0.000       0.063       0.166\n",
       "mnth_August               0.0240      0.032      0.739      0.461      -0.040       0.088\n",
       "mnth_December            -0.0501      0.032     -1.570      0.117      -0.113       0.013\n",
       "mnth_Feb                 -0.0277      0.031     -0.884      0.377      -0.089       0.034\n",
       "mnth_Jan                 -0.0554      0.032     -1.720      0.086      -0.119       0.008\n",
       "mnth_July                -0.0307      0.034     -0.911      0.363      -0.097       0.036\n",
       "mnth_June                 0.0135      0.024      0.573      0.567      -0.033       0.060\n",
       "mnth_March                0.0053      0.024      0.218      0.827      -0.042       0.053\n",
       "mnth_May                  0.0214      0.020      1.048      0.295      -0.019       0.061\n",
       "mnth_November            -0.0437      0.035     -1.256      0.210      -0.112       0.025\n",
       "mnth_October              0.0096      0.034      0.283      0.777      -0.057       0.076\n",
       "mnth_September            0.0865      0.031      2.821      0.005       0.026       0.147\n",
       "weekday_Monday           -0.0233      0.015     -1.582      0.114      -0.052       0.006\n",
       "weekday_Saturday          0.0956      0.013      7.272      0.000       0.070       0.121\n",
       "weekday_Sunday            0.0415      0.013      3.147      0.002       0.016       0.067\n",
       "weekday_Thursday         -0.0106      0.015     -0.707      0.480      -0.040       0.019\n",
       "weekday_Tuesday          -0.0219      0.015     -1.474      0.141      -0.051       0.007\n",
       "weekday_Wednesday        -0.0086      0.015     -0.596      0.551      -0.037       0.020\n",
       "weathersit_Light Mist    -0.2595      0.026     -9.971      0.000      -0.311      -0.208\n",
       "weathersit_Mist          -0.0598      0.010     -6.002      0.000      -0.079      -0.040\n",
       "==============================================================================\n",
       "Omnibus:                       92.397   Durbin-Watson:                   2.062\n",
       "Prob(Omnibus):                  0.000   Jarque-Bera (JB):              260.688\n",
       "Skew:                          -0.821   Prob(JB):                     2.47e-57\n",
       "Kurtosis:                       5.957   Cond. No.                     6.38e+15\n",
       "==============================================================================\n",
       "\n",
       "Notes:\n",
       "[1] Standard Errors assume that the covariance matrix of the errors is correctly specified.\n",
       "[2] The smallest eigenvalue is 4.55e-29. This might indicate that there are\n",
       "strong multicollinearity problems or that the design matrix is singular.\n",
       "\"\"\""
      ]
     },
     "execution_count": 47,
     "metadata": {},
     "output_type": "execute_result"
    }
   ],
   "source": [
    "lr.summary()"
   ]
  },
  {
   "cell_type": "markdown",
   "id": "4767c10a-039c-4a37-a069-8e7c8556aa6a",
   "metadata": {},
   "source": [
    "<b> Adjusted R2 is 0.848 which is pretty good. Now see what are the important independant variables </b>"
   ]
  },
  {
   "cell_type": "markdown",
   "id": "061d6dd2-b215-44c0-be99-b8891f990459",
   "metadata": {},
   "source": [
    "#### Eliminating insignificant variable ####"
   ]
  },
  {
   "cell_type": "code",
   "execution_count": 48,
   "id": "dc2342f1-dcc4-4ce3-bafe-a86b0b3e0c64",
   "metadata": {},
   "outputs": [],
   "source": [
    "## Importing RFE and Linear Regression\n",
    "from sklearn.feature_selection import RFE\n",
    "from sklearn.linear_model import LinearRegression"
   ]
  },
  {
   "cell_type": "code",
   "execution_count": null,
   "id": "797ebb78-f76a-4e14-9cf4-df6afe7b4366",
   "metadata": {},
   "outputs": [],
   "source": [
    "lm = LinearRegression()\n"
   ]
  }
 ],
 "metadata": {
  "kernelspec": {
   "display_name": "Python 3 (ipykernel)",
   "language": "python",
   "name": "python3"
  },
  "language_info": {
   "codemirror_mode": {
    "name": "ipython",
    "version": 3
   },
   "file_extension": ".py",
   "mimetype": "text/x-python",
   "name": "python",
   "nbconvert_exporter": "python",
   "pygments_lexer": "ipython3",
   "version": "3.12.4"
  }
 },
 "nbformat": 4,
 "nbformat_minor": 5
}
